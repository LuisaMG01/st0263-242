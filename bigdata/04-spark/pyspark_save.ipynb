{
 "cells": [
  {
   "cell_type": "code",
   "execution_count": 1,
   "id": "270cdc15",
   "metadata": {},
   "outputs": [
    {
     "name": "stdout",
     "output_type": "stream",
     "text": [
      "Starting Spark application\n"
     ]
    },
    {
     "data": {
      "text/html": [
       "<table>\n",
       "<tr><th>ID</th><th>YARN Application ID</th><th>Kind</th><th>State</th><th>Spark UI</th><th>Driver log</th><th>User</th><th>Current session?</th></tr><tr><td>0</td><td>application_1732394786212_0001</td><td>pyspark</td><td>idle</td><td><a target=\"_blank\" href=\"http://ip-172-31-12-137.ec2.internal:20888/proxy/application_1732394786212_0001/\">Link</a></td><td><a target=\"_blank\" href=\"http://ip-172-31-14-19.ec2.internal:8042/node/containerlogs/container_1732394786212_0001_01_000001/livy\">Link</a></td><td>None</td><td>✔</td></tr></table>"
      ],
      "text/plain": [
       "<IPython.core.display.HTML object>"
      ]
     },
     "metadata": {},
     "output_type": "display_data"
    },
    {
     "data": {
      "application/vnd.jupyter.widget-view+json": {
       "model_id": "",
       "version_major": 2,
       "version_minor": 0
      },
      "text/plain": [
       "FloatProgress(value=0.0, bar_style='info', description='Progress:', layout=Layout(height='25px', width='50%'),…"
      ]
     },
     "metadata": {},
     "output_type": "display_data"
    },
    {
     "name": "stdout",
     "output_type": "stream",
     "text": [
      "SparkSession available as 'spark'.\n"
     ]
    },
    {
     "data": {
      "application/vnd.jupyter.widget-view+json": {
       "model_id": "",
       "version_major": 2,
       "version_minor": 0
      },
      "text/plain": [
       "FloatProgress(value=0.0, bar_style='info', description='Progress:', layout=Layout(height='25px', width='50%'),…"
      ]
     },
     "metadata": {},
     "output_type": "display_data"
    },
    {
     "name": "stdout",
     "output_type": "stream",
     "text": [
      "<pyspark.sql.session.SparkSession object at 0x7f264d061e20>"
     ]
    }
   ],
   "source": [
    "spark  "
   ]
  },
  {
   "cell_type": "code",
   "execution_count": 2,
   "id": "d1702a36",
   "metadata": {},
   "outputs": [
    {
     "data": {
      "application/vnd.jupyter.widget-view+json": {
       "model_id": "",
       "version_major": 2,
       "version_minor": 0
      },
      "text/plain": [
       "FloatProgress(value=0.0, bar_style='info', description='Progress:', layout=Layout(height='25px', width='50%'),…"
      ]
     },
     "metadata": {},
     "output_type": "display_data"
    },
    {
     "name": "stdout",
     "output_type": "stream",
     "text": [
      "<SparkContext master=yarn appName=livy-session-0>"
     ]
    }
   ],
   "source": [
    "sc"
   ]
  },
  {
   "cell_type": "code",
   "execution_count": 3,
   "id": "789785ea",
   "metadata": {},
   "outputs": [
    {
     "data": {
      "application/vnd.jupyter.widget-view+json": {
       "model_id": "",
       "version_major": 2,
       "version_minor": 0
      },
      "text/plain": [
       "FloatProgress(value=0.0, bar_style='info', description='Progress:', layout=Layout(height='25px', width='50%'),…"
      ]
     },
     "metadata": {},
     "output_type": "display_data"
    }
   ],
   "source": [
    "df = spark.read.csv('s3://jupyterbuck/bigdata/datasets/covid.csv', inferSchema=True, header=True, encoding=\"UTF-8\")\n",
    "# df: Define un DataFrame en PySpark.\n",
    "# spark.read.csv: Lee un archivo CSV desde un bucket S3.\n",
    "# 's3://jupyterbuck/bigdata/datasets/covid.csv': Ruta del archivo CSV en S3.\n",
    "# inferSchema=True: Infiera automáticamente el esquema de los datos.\n",
    "# header=True: Indica que la primera fila del archivo CSV contiene los nombres de las columnas.\n",
    "# encoding=\"UTF-8\": Especifica que el archivo CSV está codificado en UTF-8.\n"
   ]
  },
  {
   "cell_type": "code",
   "execution_count": 4,
   "id": "72e25f39",
   "metadata": {},
   "outputs": [
    {
     "data": {
      "application/vnd.jupyter.widget-view+json": {
       "model_id": "",
       "version_major": 2,
       "version_minor": 0
      },
      "text/plain": [
       "FloatProgress(value=0.0, bar_style='info', description='Progress:', layout=Layout(height='25px', width='50%'),…"
      ]
     },
     "metadata": {},
     "output_type": "display_data"
    },
    {
     "name": "stdout",
     "output_type": "stream",
     "text": [
      "['fecha reporte web', 'ID de caso', 'Fecha de notificación', 'Código DIVIPOLA departamento', 'Nombre departamento', 'Código DIVIPOLA municipio', 'Nombre municipio', 'Edad', 'Unidad de medida de edad', 'Sexo', 'Tipo de contagio', 'Ubicación del caso', 'Estado', 'Código ISO del país', 'Nombre del país', 'Recuperado', 'Fecha de inicio de síntomas', 'Fecha de muerte', 'Fecha de diagnóstico', 'Fecha de recuperación', 'Tipo de recuperación', 'Pertenencia étnica', 'Nombre del grupo étnico']"
     ]
    }
   ],
   "source": [
    "df.columns  # Muestra una lista de los nombres de las columnas del DataFrame df.\n"
   ]
  },
  {
   "cell_type": "code",
   "execution_count": 5,
   "id": "a5334b78",
   "metadata": {},
   "outputs": [
    {
     "data": {
      "application/vnd.jupyter.widget-view+json": {
       "model_id": "",
       "version_major": 2,
       "version_minor": 0
      },
      "text/plain": [
       "FloatProgress(value=0.0, bar_style='info', description='Progress:', layout=Layout(height='25px', width='50%'),…"
      ]
     },
     "metadata": {},
     "output_type": "display_data"
    },
    {
     "name": "stdout",
     "output_type": "stream",
     "text": [
      "+-------------------+----------+---------------------+----------------------------+-------------------+-------------------------+----------------+----+------------------------+----+----------------+------------------+---------+-------------------+---------------+----------+---------------------------+-------------------+--------------------+---------------------+--------------------+------------------+-----------------------+\n",
      "|  fecha reporte web|ID de caso|Fecha de notificación|Código DIVIPOLA departamento|Nombre departamento|Código DIVIPOLA municipio|Nombre municipio|Edad|Unidad de medida de edad|Sexo|Tipo de contagio|Ubicación del caso|   Estado|Código ISO del país|Nombre del país|Recuperado|Fecha de inicio de síntomas|    Fecha de muerte|Fecha de diagnóstico|Fecha de recuperación|Tipo de recuperación|Pertenencia étnica|Nombre del grupo étnico|\n",
      "+-------------------+----------+---------------------+----------------------------+-------------------+-------------------------+----------------+----+------------------------+----+----------------+------------------+---------+-------------------+---------------+----------+---------------------------+-------------------+--------------------+---------------------+--------------------+------------------+-----------------------+\n",
      "|2020-12-24 00:00:00|   1556979|  2020-12-22 00:00:00|                          76|              VALLE|                    76001|            CALI|  67|                       1|   F|     Comunitaria|              Casa|     Leve|               NULL|           NULL|Recuperado|        2020-12-21 00:00:00|               NULL| 2020-12-23 00:00:00|  2021-01-04 00:00:00|              Tiempo|                 6|                   NULL|\n",
      "|2020-12-24 00:00:00|   1556980|  2020-12-19 00:00:00|                          76|              VALLE|                    76001|            CALI|  66|                       1|   F|     Comunitaria|              Casa|     Leve|               NULL|           NULL|Recuperado|        2020-12-07 00:00:00|               NULL| 2020-12-23 00:00:00|  2020-12-25 00:00:00|              Tiempo|                 6|                   NULL|\n",
      "|2020-12-24 00:00:00|   1556981|  2020-12-19 00:00:00|                          76|              VALLE|                    76001|            CALI|  68|                       1|   F|     Comunitaria|              Casa|     Leve|               NULL|           NULL|Recuperado|        2020-12-18 00:00:00|               NULL| 2020-12-22 00:00:00|  2021-01-01 00:00:00|              Tiempo|                 6|                   NULL|\n",
      "|2020-12-24 00:00:00|   1556982|  2020-12-22 00:00:00|                          76|              VALLE|                    76001|            CALI|  74|                       1|   F|     Comunitaria|         Fallecido|Fallecido|               NULL|           NULL| Fallecido|        2020-12-17 00:00:00|2020-12-30 00:00:00| 2020-12-23 00:00:00|                 NULL|                NULL|                 6|                   NULL|\n",
      "|2020-12-24 00:00:00|   1556983|  2020-12-22 00:00:00|                          76|              VALLE|                    76001|            CALI|  65|                       1|   F|     Comunitaria|              Casa|     Leve|               NULL|           NULL|Recuperado|        2020-12-21 00:00:00|               NULL| 2020-12-23 00:00:00|  2021-01-04 00:00:00|              Tiempo|                 6|                   NULL|\n",
      "|2020-12-24 00:00:00|   1556984|  2020-12-15 00:00:00|                          76|              VALLE|                    76001|            CALI|  66|                       1|   F|     Comunitaria|              Casa|     Leve|               NULL|           NULL|Recuperado|        2020-12-09 00:00:00|               NULL| 2020-12-23 00:00:00|  2020-12-25 00:00:00|              Tiempo|                 6|                   NULL|\n",
      "|2020-12-24 00:00:00|   1556985|  2020-12-21 00:00:00|                          76|              VALLE|                    76001|            CALI|  74|                       1|   F|     Comunitaria|              Casa|     Leve|               NULL|           NULL|Recuperado|        2020-12-14 00:00:00|               NULL| 2020-12-22 00:00:00|  2020-12-28 00:00:00|              Tiempo|                 6|                   NULL|\n",
      "|2020-12-24 00:00:00|   1556986|  2020-12-18 00:00:00|                          76|              VALLE|                    76001|            CALI|  66|                       1|   F|     Comunitaria|         Fallecido|Fallecido|               NULL|           NULL| Fallecido|        2020-12-11 00:00:00|2020-12-26 00:00:00| 2020-12-22 00:00:00|                 NULL|                NULL|                 6|                   NULL|\n",
      "|2020-12-24 00:00:00|   1556987|  2020-12-18 00:00:00|                          76|              VALLE|                    76001|            CALI|  64|                       1|   F|     Comunitaria|              Casa|     Leve|               NULL|           NULL|Recuperado|        2020-12-15 00:00:00|               NULL| 2020-12-23 00:00:00|  2020-12-30 00:00:00|              Tiempo|                 6|                   NULL|\n",
      "|2020-12-24 00:00:00|   1556988|  2020-12-17 00:00:00|                          76|              VALLE|                    76001|            CALI|  65|                       1|   F|     Comunitaria|              Casa|     Leve|               NULL|           NULL|Recuperado|        2020-12-08 00:00:00|               NULL| 2020-12-22 00:00:00|  2020-12-25 00:00:00|              Tiempo|                 6|                   NULL|\n",
      "|2020-12-24 00:00:00|   1556989|  2020-12-16 00:00:00|                          76|              VALLE|                    76001|            CALI|  62|                       1|   F|     Comunitaria|              Casa|     Leve|               NULL|           NULL|Recuperado|        2020-12-08 00:00:00|               NULL| 2020-12-23 00:00:00|  2021-04-23 00:00:00|              Tiempo|                 6|                   NULL|\n",
      "|2020-12-24 00:00:00|   1556990|  2020-12-08 00:00:00|                          76|              VALLE|                    76001|            CALI|  36|                       1|   F|     Comunitaria|              Casa|     Leve|               NULL|           NULL|Recuperado|        2020-12-01 00:00:00|               NULL| 2020-12-12 00:00:00|  2020-12-25 00:00:00|              Tiempo|                 6|                   NULL|\n",
      "|2020-12-24 00:00:00|   1556991|  2020-12-22 00:00:00|                          76|              VALLE|                    76001|            CALI|  36|                       1|   F|     Comunitaria|              Casa|     Leve|               NULL|           NULL|Recuperado|        2020-12-19 00:00:00|               NULL| 2020-12-21 00:00:00|  2021-01-02 00:00:00|                 PCR|                 6|                   NULL|\n",
      "|2020-12-24 00:00:00|   1556992|  2020-12-19 00:00:00|                          76|              VALLE|                    76001|            CALI|  35|                       1|   F|     Comunitaria|              Casa|     Leve|               NULL|           NULL|Recuperado|        2020-12-12 00:00:00|               NULL| 2020-12-23 00:00:00|  2020-12-27 00:00:00|              Tiempo|                 6|                   NULL|\n",
      "|2020-11-08 00:00:00|   1137429|  2020-11-05 00:00:00|                           5|          ANTIOQUIA|                     5266|        ENVIGADO|  37|                       1|   F|     Comunitaria|              Casa|     Leve|               NULL|           NULL|Recuperado|        2020-10-31 00:00:00|               NULL| 2020-11-06 00:00:00|  2021-04-25 00:00:00|                 PCR|                 6|                   NULL|\n",
      "|2020-11-08 00:00:00|   1137430|  2020-10-31 00:00:00|                          68|          SANTANDER|                    68001|     BUCARAMANGA|  77|                       1|   M|     Comunitaria|              Casa|     Leve|               NULL|           NULL|Recuperado|        2020-10-31 00:00:00|               NULL| 2020-11-06 00:00:00|  2020-11-15 00:00:00|              Tiempo|                 6|                   NULL|\n",
      "|2020-11-08 00:00:00|   1137431|  2020-11-04 00:00:00|                          54|    NORTE SANTANDER|                    54001|          CUCUTA|  52|                       1|   M|     Comunitaria|              Casa|     Leve|               NULL|           NULL|Recuperado|        2020-10-31 00:00:00|               NULL| 2020-11-07 00:00:00|  2020-11-15 00:00:00|              Tiempo|                 6|                   NULL|\n",
      "|2020-11-08 00:00:00|   1137432|  2020-11-06 00:00:00|                          17|             CALDAS|                    17001|       MANIZALES|  46|                       1|   F|     Comunitaria|              Casa|     Leve|               NULL|           NULL|Recuperado|        2020-10-31 00:00:00|               NULL| 2020-11-06 00:00:00|  2020-11-15 00:00:00|              Tiempo|                 6|                   NULL|\n",
      "|2020-11-08 00:00:00|   1137433|  2020-11-04 00:00:00|                           5|          ANTIOQUIA|                     5266|        ENVIGADO|  37|                       1|   F|     Comunitaria|              Casa|     Leve|               NULL|           NULL|Recuperado|        2020-10-31 00:00:00|               NULL| 2020-11-04 00:00:00|  2020-11-15 00:00:00|              Tiempo|                 6|                   NULL|\n",
      "|2020-11-08 00:00:00|   1137434|  2020-11-05 00:00:00|                          11|             BOGOTA|                    11001|          BOGOTA|  81|                       1|   F|     Relacionado|         Fallecido|Fallecido|               NULL|           NULL| Fallecido|        2020-10-31 00:00:00|2020-11-11 00:00:00| 2020-11-07 00:00:00|                 NULL|                NULL|                 6|                   NULL|\n",
      "+-------------------+----------+---------------------+----------------------------+-------------------+-------------------------+----------------+----+------------------------+----+----------------+------------------+---------+-------------------+---------------+----------+---------------------------+-------------------+--------------------+---------------------+--------------------+------------------+-----------------------+\n",
      "only showing top 20 rows"
     ]
    }
   ],
   "source": [
    "df.show()  # Muestra las primeras 20 filas del DataFrame df en un formato tabular.\n"
   ]
  },
  {
   "cell_type": "code",
   "execution_count": 6,
   "id": "98791e8c",
   "metadata": {},
   "outputs": [
    {
     "data": {
      "application/vnd.jupyter.widget-view+json": {
       "model_id": "",
       "version_major": 2,
       "version_minor": 0
      },
      "text/plain": [
       "FloatProgress(value=0.0, bar_style='info', description='Progress:', layout=Layout(height='25px', width='50%'),…"
      ]
     },
     "metadata": {},
     "output_type": "display_data"
    },
    {
     "name": "stdout",
     "output_type": "stream",
     "text": [
      "23"
     ]
    }
   ],
   "source": [
    "len(df.columns)  # Retorna el número de columnas en el DataFrame df.\n"
   ]
  },
  {
   "cell_type": "code",
   "execution_count": 7,
   "id": "9daf366f",
   "metadata": {},
   "outputs": [
    {
     "data": {
      "application/vnd.jupyter.widget-view+json": {
       "model_id": "",
       "version_major": 2,
       "version_minor": 0
      },
      "text/plain": [
       "FloatProgress(value=0.0, bar_style='info', description='Progress:', layout=Layout(height='25px', width='50%'),…"
      ]
     },
     "metadata": {},
     "output_type": "display_data"
    },
    {
     "name": "stdout",
     "output_type": "stream",
     "text": [
      "6390971"
     ]
    }
   ],
   "source": [
    "df.count()  # Cuenta el número total de filas en el DataFrame df.\n"
   ]
  },
  {
   "cell_type": "code",
   "execution_count": 9,
   "id": "49962800",
   "metadata": {},
   "outputs": [
    {
     "data": {
      "application/vnd.jupyter.widget-view+json": {
       "model_id": "",
       "version_major": 2,
       "version_minor": 0
      },
      "text/plain": [
       "FloatProgress(value=0.0, bar_style='info', description='Progress:', layout=Layout(height='25px', width='50%'),…"
      ]
     },
     "metadata": {},
     "output_type": "display_data"
    },
    {
     "name": "stdout",
     "output_type": "stream",
     "text": [
      "root\n",
      " |-- fecha reporte web: timestamp (nullable = true)\n",
      " |-- ID de caso: integer (nullable = true)\n",
      " |-- Fecha de notificación: timestamp (nullable = true)\n",
      " |-- Código DIVIPOLA departamento: integer (nullable = true)\n",
      " |-- Nombre departamento: string (nullable = true)\n",
      " |-- Código DIVIPOLA municipio: integer (nullable = true)\n",
      " |-- Nombre municipio: string (nullable = true)\n",
      " |-- Edad: integer (nullable = true)\n",
      " |-- Unidad de medida de edad: integer (nullable = true)\n",
      " |-- Sexo: string (nullable = true)\n",
      " |-- Tipo de contagio: string (nullable = true)\n",
      " |-- Ubicación del caso: string (nullable = true)\n",
      " |-- Estado: string (nullable = true)\n",
      " |-- Código ISO del país: integer (nullable = true)\n",
      " |-- Nombre del país: string (nullable = true)\n",
      " |-- Recuperado: string (nullable = true)\n",
      " |-- Fecha de inicio de síntomas: timestamp (nullable = true)\n",
      " |-- Fecha de muerte: timestamp (nullable = true)\n",
      " |-- Fecha de diagnóstico: timestamp (nullable = true)\n",
      " |-- Fecha de recuperación: timestamp (nullable = true)\n",
      " |-- Tipo de recuperación: string (nullable = true)\n",
      " |-- Pertenencia étnica: integer (nullable = true)\n",
      " |-- Nombre del grupo étnico: string (nullable = true)"
     ]
    }
   ],
   "source": [
    "df.printSchema()  # Imprime el esquema del DataFrame df, mostrando los nombres de las columnas y los tipos de datos."
   ]
  },
  {
   "cell_type": "code",
   "execution_count": 10,
   "id": "b6b76440",
   "metadata": {},
   "outputs": [
    {
     "data": {
      "application/vnd.jupyter.widget-view+json": {
       "model_id": "",
       "version_major": 2,
       "version_minor": 0
      },
      "text/plain": [
       "FloatProgress(value=0.0, bar_style='info', description='Progress:', layout=Layout(height='25px', width='50%'),…"
      ]
     },
     "metadata": {},
     "output_type": "display_data"
    }
   ],
   "source": [
    "write_uri='s3a://jupyterbuck/bigdata/jupyter/dataframes/csv/'"
   ]
  },
  {
   "cell_type": "code",
   "execution_count": 13,
   "id": "59b9d334",
   "metadata": {},
   "outputs": [
    {
     "data": {
      "application/vnd.jupyter.widget-view+json": {
       "model_id": "",
       "version_major": 2,
       "version_minor": 0
      },
      "text/plain": [
       "FloatProgress(value=0.0, bar_style='info', description='Progress:', layout=Layout(height='25px', width='50%'),…"
      ]
     },
     "metadata": {},
     "output_type": "display_data"
    }
   ],
   "source": [
    "parquet_uri='s3a://jupyterbuck/bigdata/jupyter/dataframes/parket/'"
   ]
  },
  {
   "cell_type": "code",
   "execution_count": 15,
   "id": "7b04c0dc",
   "metadata": {},
   "outputs": [
    {
     "data": {
      "application/vnd.jupyter.widget-view+json": {
       "model_id": "",
       "version_major": 2,
       "version_minor": 0
      },
      "text/plain": [
       "FloatProgress(value=0.0, bar_style='info', description='Progress:', layout=Layout(height='25px', width='50%'),…"
      ]
     },
     "metadata": {},
     "output_type": "display_data"
    },
    {
     "name": "stdout",
     "output_type": "stream",
     "text": [
      "+-------------------+----------------+----+----+\n",
      "|Nombre departamento|Nombre municipio|Edad|Sexo|\n",
      "+-------------------+----------------+----+----+\n",
      "|              VALLE|            CALI|  67|   F|\n",
      "|              VALLE|            CALI|  66|   F|\n",
      "|              VALLE|            CALI|  68|   F|\n",
      "|              VALLE|            CALI|  74|   F|\n",
      "|              VALLE|            CALI|  65|   F|\n",
      "|              VALLE|            CALI|  66|   F|\n",
      "|              VALLE|            CALI|  74|   F|\n",
      "|              VALLE|            CALI|  66|   F|\n",
      "|              VALLE|            CALI|  64|   F|\n",
      "|              VALLE|            CALI|  65|   F|\n",
      "|              VALLE|            CALI|  62|   F|\n",
      "|              VALLE|            CALI|  36|   F|\n",
      "|              VALLE|            CALI|  36|   F|\n",
      "|              VALLE|            CALI|  35|   F|\n",
      "|          ANTIOQUIA|        ENVIGADO|  37|   F|\n",
      "|          SANTANDER|     BUCARAMANGA|  77|   M|\n",
      "|    NORTE SANTANDER|          CUCUTA|  52|   M|\n",
      "|             CALDAS|       MANIZALES|  46|   F|\n",
      "|          ANTIOQUIA|        ENVIGADO|  37|   F|\n",
      "|             BOGOTA|          BOGOTA|  81|   F|\n",
      "+-------------------+----------------+----+----+\n",
      "only showing top 20 rows"
     ]
    }
   ],
   "source": [
    "selected_data = df.select(\"Nombre departamento\", \"Nombre municipio\", \"Edad\", \"Sexo\")\n",
    "# Crea un nuevo DataFrame selected_data que contiene solo las columnas especificadas:\n",
    "# \"Nombre departamento\", \"Nombre municipio\", \"Edad\" y \"Sexo\".\n",
    "\n",
    "selected_data.show()\n",
    "# Guardar en formato CSV con sobrescritura\n",
    "selected_data.coalesce(1).write.format(\"csv\").option(\"header\", \"true\").mode(\"overwrite\").save(write_uri + \"selected_data\")\n",
    "\n",
    "# Guardar en formato Parquet con sobrescritura\n",
    "selected_data.write.format('parquet').mode(\"overwrite\").save(parquet_uri + \"selected_data\")\n"
   ]
  },
  {
   "cell_type": "code",
   "execution_count": 17,
   "id": "54a9e3c5",
   "metadata": {},
   "outputs": [
    {
     "data": {
      "application/vnd.jupyter.widget-view+json": {
       "model_id": "",
       "version_major": 2,
       "version_minor": 0
      },
      "text/plain": [
       "FloatProgress(value=0.0, bar_style='info', description='Progress:', layout=Layout(height='25px', width='50%'),…"
      ]
     },
     "metadata": {},
     "output_type": "display_data"
    }
   ],
   "source": [
    "df = df.withColumnRenamed(\"Nombre Municipio\", \"Municipio\")\n",
    "# Renombra la columna \"Nombre Municipio\" a \"Municipio\" en el DataFrame df.\n",
    "\n",
    "df = df.withColumnRenamed(\"Nombre departamento\", \"Departamento\")\n",
    "# Renombra la columna \"Nombre departamento\" a \"Departamento\" en el DataFrame df.\n"
   ]
  },
  {
   "cell_type": "code",
   "execution_count": 18,
   "id": "21d14a56",
   "metadata": {},
   "outputs": [
    {
     "data": {
      "application/vnd.jupyter.widget-view+json": {
       "model_id": "",
       "version_major": 2,
       "version_minor": 0
      },
      "text/plain": [
       "FloatProgress(value=0.0, bar_style='info', description='Progress:', layout=Layout(height='25px', width='50%'),…"
      ]
     },
     "metadata": {},
     "output_type": "display_data"
    },
    {
     "name": "stdout",
     "output_type": "stream",
     "text": [
      "+------------+-------+\n",
      "|Departamento|  count|\n",
      "+------------+-------+\n",
      "|      BOGOTA|1888137|\n",
      "|   ANTIOQUIA| 955271|\n",
      "|       VALLE| 572724|\n",
      "|CUNDINAMARCA| 331331|\n",
      "|   SANTANDER| 297370|\n",
      "|BARRANQUILLA| 277989|\n",
      "|   CARTAGENA| 163526|\n",
      "|   ATLANTICO| 141072|\n",
      "|      BOYACA| 131133|\n",
      "|      TOLIMA| 127764|\n",
      "+------------+-------+\n",
      "only showing top 10 rows"
     ]
    }
   ],
   "source": [
    "result_df = df.groupBy(\"Departamento\").count().orderBy(\"count\", ascending=False).show(10)\n",
    "# Agrupa el DataFrame df por la columna \"Departamento\".\n",
    "# Cuenta el número de filas en cada grupo.\n",
    "# Ordena los resultados por el número de filas (conteo) en orden descendente.\n",
    "# Muestra las primeras 10 filas del DataFrame resultante en un formato tabular.\n",
    "\n",
    "\n",
    "# Mostrar las primeras 10 filas\n",
    "result_df.show(10)\n",
    "\n",
    "# Guardar en formato CSV en S3 con sobrescritura\n",
    "result_df.coalesce(1).write.format(\"csv\").option(\"header\", \"true\").mode(\"overwrite\").save(write_uri + \"grouped_departments_csv\")\n",
    "# Guardar en formato Parquet con sobrescritura\n",
    "result_df.write.format('parquet').mode(\"overwrite\").save(parquet_uri + \"grouped_departments_parquet\")\n"
   ]
  },
  {
   "cell_type": "code",
   "execution_count": 19,
   "id": "544635fd",
   "metadata": {},
   "outputs": [
    {
     "data": {
      "application/vnd.jupyter.widget-view+json": {
       "model_id": "",
       "version_major": 2,
       "version_minor": 0
      },
      "text/plain": [
       "FloatProgress(value=0.0, bar_style='info', description='Progress:', layout=Layout(height='25px', width='50%'),…"
      ]
     },
     "metadata": {},
     "output_type": "display_data"
    },
    {
     "name": "stdout",
     "output_type": "stream",
     "text": [
      "+------------+-------+\n",
      "|   Municipio|  count|\n",
      "+------------+-------+\n",
      "|      BOGOTA|1888137|\n",
      "|    MEDELLIN| 550790|\n",
      "|        CALI| 406751|\n",
      "|BARRANQUILLA| 277989|\n",
      "|   CARTAGENA| 163526|\n",
      "| BUCARAMANGA| 142842|\n",
      "|      IBAGUE|  91598|\n",
      "| SANTA MARTA|  84863|\n",
      "|   MANIZALES|  84478|\n",
      "|      CUCUTA|  77359|\n",
      "+------------+-------+\n",
      "only showing top 10 rows"
     ]
    }
   ],
   "source": [
    "# Agrupa el DataFrame df por la columna \"Municipio\". \n",
    "# Cuenta el número de filas en cada grupo. \n",
    "# Ordena los resultados por el número de filas (conteo) en orden descendente.\n",
    "result_df = df.groupBy(\"Municipio\").count().orderBy(\"count\", ascending=False)\n",
    "\n",
    "# Mostrar las primeras 10 filas\n",
    "result_df.show(10)\n",
    "\n",
    "# Guardar en formato CSV en S3 con sobrescritura\n",
    "result_df.coalesce(1).write.format(\"csv\").option(\"header\", \"true\").mode(\"overwrite\").save(write_uri + \"grouped_municipios_csv\")\n",
    "# Guardar en formato Parquet con sobrescritura\n",
    "result_df.write.format('parquet').mode(\"overwrite\").save(parquet_uri + \"grouped_municipios_parquet\")\n"
   ]
  },
  {
   "cell_type": "code",
   "execution_count": 21,
   "id": "953d7342",
   "metadata": {},
   "outputs": [
    {
     "data": {
      "application/vnd.jupyter.widget-view+json": {
       "model_id": "",
       "version_major": 2,
       "version_minor": 0
      },
      "text/plain": [
       "FloatProgress(value=0.0, bar_style='info', description='Progress:', layout=Layout(height='25px', width='50%'),…"
      ]
     },
     "metadata": {},
     "output_type": "display_data"
    },
    {
     "name": "stdout",
     "output_type": "stream",
     "text": [
      "+----+-----+\n",
      "|Edad|count|\n",
      "+----+-----+\n",
      "|   1|33429|\n",
      "|   2|26207|\n",
      "|   3|24223|\n",
      "|   4|23905|\n",
      "|   5|24768|\n",
      "|   6|26380|\n",
      "|   7|26067|\n",
      "|   8|28717|\n",
      "|   9|30256|\n",
      "|  10|31768|\n",
      "|  11|34814|\n",
      "|  12|34208|\n",
      "|  13|36646|\n",
      "|  14|39774|\n",
      "|  15|43189|\n",
      "|  16|46546|\n",
      "|  17|52437|\n",
      "|  18|64310|\n",
      "|  19|80783|\n",
      "|  20|93686|\n",
      "+----+-----+\n",
      "only showing top 20 rows"
     ]
    }
   ],
   "source": [
    "# Agrupar el DataFrame df por la columna \"Edad\"\n",
    "# Cuenta el número de filas en cada grupo\n",
    "# Ordena los resultados por la columna \"Edad\" en orden ascendente\n",
    "# Muestra todas las filas del DataFrame resultante en un formato tabular\n",
    "result_df = df.groupBy(\"Edad\").count().orderBy(\"Edad\")\n",
    "\n",
    "# Mostrar todas las filas del resultado\n",
    "result_df.show()\n",
    "\n",
    "# Guardar en formato CSV en S3 con sobrescritura\n",
    "# coalesce(1) asegura que los datos se escriban en un solo archivo\n",
    "result_df.coalesce(1).write.format(\"csv\").option(\"header\", \"true\").mode(\"overwrite\").save(write_uri + \"grouped_ages_csv\")\n",
    "\n",
    "# Guardar en formato Parquet con sobrescritura\n",
    "result_df.write.format('parquet').mode(\"overwrite\").save(parquet_uri + \"grouped_ages_parquet\")"
   ]
  },
  {
   "cell_type": "code",
   "execution_count": 22,
   "id": "6321ca47",
   "metadata": {},
   "outputs": [
    {
     "data": {
      "application/vnd.jupyter.widget-view+json": {
       "model_id": "",
       "version_major": 2,
       "version_minor": 0
      },
      "text/plain": [
       "FloatProgress(value=0.0, bar_style='info', description='Progress:', layout=Layout(height='25px', width='50%'),…"
      ]
     },
     "metadata": {},
     "output_type": "display_data"
    },
    {
     "name": "stdout",
     "output_type": "stream",
     "text": [
      "+----+-------+-----------------+\n",
      "|Sexo|  count|       Porcentaje|\n",
      "+----+-------+-----------------+\n",
      "|   f|3417093|53.46750908430033|\n",
      "|   m|2973878|46.53249091569967|\n",
      "+----+-------+-----------------+"
     ]
    }
   ],
   "source": [
    "from pyspark.sql.functions import lower, col\n",
    "\n",
    "# Importa la función lower del módulo pyspark.sql.functions, la cual convierte una cadena de texto a minúsculas.\n",
    "# Importa la función col para seleccionar columnas fácilmente.\n",
    "\n",
    "df = df.withColumn(\"Sexo\", lower(col(\"Sexo\")))\n",
    "# Crea una nueva columna \"Sexo\" en el DataFrame df, donde todos los valores se convierten a minúsculas,\n",
    "# utilizando la función lower en la columna \"Sexo\" existente.\n",
    "\n",
    "result_df = df.groupBy(\"Sexo\").count().withColumn(\"Porcentaje\", col(\"count\") / df.count() * 100)\n",
    "# Agrupa el DataFrame df por la columna \"Sexo\".\n",
    "# Cuenta el número de filas en cada grupo.\n",
    "# Crea una nueva columna \"Porcentaje\" que calcula el porcentaje de cada grupo respecto al total de filas.\n",
    "\n",
    "result_df.show()\n",
    "# Muestra las primeras 20 filas del DataFrame resultante en un formato tabular.\n",
    "\n",
    "# Guardar en formato CSV en S3 con sobrescritura\n",
    "# coalesce(1) asegura que los datos se escriban en un solo archivo\n",
    "result_df.coalesce(1).write.format(\"csv\").option(\"header\", \"true\").mode(\"overwrite\").save(write_uri + \"grouped_sex_csv\")\n",
    "\n",
    "# Guardar en formato Parquet con sobrescritura\n",
    "result_df.write.format('parquet').mode(\"overwrite\").save(parquet_uri + \"grouped_sex_parquet\")\n"
   ]
  },
  {
   "cell_type": "code",
   "execution_count": 17,
   "id": "cb22ec49",
   "metadata": {},
   "outputs": [
    {
     "data": {
      "application/vnd.jupyter.widget-view+json": {
       "model_id": "",
       "version_major": 2,
       "version_minor": 0
      },
      "text/plain": [
       "FloatProgress(value=0.0, bar_style='info', description='Progress:', layout=Layout(height='25px', width='50%'),…"
      ]
     },
     "metadata": {},
     "output_type": "display_data"
    }
   ],
   "source": [
    "df.createOrReplaceTempView(\"covid_data\")\n",
    "# Crea o reemplaza una vista temporal llamada \"covid_data\" basada en el DataFrame df.\n",
    "# Esta vista temporal permite ejecutar consultas SQL sobre el DataFrame df utilizando SQLContext o SparkSession."
   ]
  },
  {
   "cell_type": "code",
   "execution_count": 18,
   "id": "12d52499",
   "metadata": {},
   "outputs": [
    {
     "data": {
      "application/vnd.jupyter.widget-view+json": {
       "model_id": "",
       "version_major": 2,
       "version_minor": 0
      },
      "text/plain": [
       "FloatProgress(value=0.0, bar_style='info', description='Progress:', layout=Layout(height='25px', width='50%'),…"
      ]
     },
     "metadata": {},
     "output_type": "display_data"
    },
    {
     "name": "stdout",
     "output_type": "stream",
     "text": [
      "+-------------------+-------+\n",
      "|Nombre departamento|  casos|\n",
      "+-------------------+-------+\n",
      "|Nombre departamento|6390971|\n",
      "+-------------------+-------+"
     ]
    }
   ],
   "source": [
    "spark.sql(\"SELECT 'Nombre departamento', COUNT(*) as casos FROM covid_data GROUP BY 'Nombre departamento' ORDER BY casos DESC LIMIT 10\").show()\n",
    "# Ejecuta una consulta SQL en la sesión de Spark.\n",
    "# Selecciona la columna 'Nombre departamento' y cuenta el número de casos en cada departamento.\n",
    "# Agrupa los resultados por 'Nombre departamento'.\n",
    "# Ordena los resultados por el número de casos en orden descendente.\n",
    "# Limita los resultados a los 10 departamentos con más casos.\n",
    "# Muestra las primeras 20 filas del DataFrame resultante en un formato tabular."
   ]
  },
  {
   "cell_type": "code",
   "execution_count": 23,
   "id": "5f67645b",
   "metadata": {},
   "outputs": [
    {
     "data": {
      "application/vnd.jupyter.widget-view+json": {
       "model_id": "",
       "version_major": 2,
       "version_minor": 0
      },
      "text/plain": [
       "FloatProgress(value=0.0, bar_style='info', description='Progress:', layout=Layout(height='25px', width='50%'),…"
      ]
     },
     "metadata": {},
     "output_type": "display_data"
    },
    {
     "name": "stdout",
     "output_type": "stream",
     "text": [
      "+-----------------+----------+---------------------+----------------------------+------------+-------------------------+---------+----+------------------------+----+----------------+------------------+------+-------------------+---------------+----------+---------------------------+---------------+--------------------+---------------------+--------------------+------------------+-----------------------+\n",
      "|fecha reporte web|ID de caso|Fecha de notificación|Código DIVIPOLA departamento|Departamento|Código DIVIPOLA municipio|Municipio|Edad|Unidad de medida de edad|Sexo|Tipo de contagio|Ubicación del caso|Estado|Código ISO del país|Nombre del país|Recuperado|Fecha de inicio de síntomas|Fecha de muerte|Fecha de diagnóstico|Fecha de recuperación|Tipo de recuperación|Pertenencia étnica|Nombre del grupo étnico|\n",
      "+-----------------+----------+---------------------+----------------------------+------------+-------------------------+---------+----+------------------------+----+----------------+------------------+------+-------------------+---------------+----------+---------------------------+---------------+--------------------+---------------------+--------------------+------------------+-----------------------+\n",
      "+-----------------+----------+---------------------+----------------------------+------------+-------------------------+---------+----+------------------------+----+----------------+------------------+------+-------------------+---------------+----------+---------------------------+---------------+--------------------+---------------------+--------------------+------------------+-----------------------+"
     ]
    }
   ],
   "source": [
    "# Filtra el DataFrame df para incluir solo las filas donde la columna \"Departamento\" es igual a \"Antioquia\".\n",
    "# Almacena el DataFrame resultante en antioquia_cases.\n",
    "antioquia_cases = df.filter(df[\"Departamento\"] == \"Antioquia\")\n",
    "\n",
    "# Muestra las primeras 20 filas del DataFrame antioquia_cases en un formato tabular.\n",
    "antioquia_cases.show()\n",
    "\n",
    "# Guardar los datos filtrados en un archivo CSV en S3 con sobrescritura\n",
    "# coalesce(1) asegura que los datos se escriban en un solo archivo\n",
    "antioquia_cases.coalesce(1).write.format(\"csv\").option(\"header\", \"true\").mode(\"overwrite\").save(write_uri + \"antioquia_cases_csv\")\n",
    "\n",
    "# Guardar los datos filtrados en un archivo Parquet con sobrescritura\n",
    "antioquia_cases.write.format('parquet').mode(\"overwrite\").save(parquet_uri + \"antioquia_cases_parquet\")\n"
   ]
  },
  {
   "cell_type": "code",
   "execution_count": 24,
   "id": "9db89100",
   "metadata": {},
   "outputs": [
    {
     "data": {
      "application/vnd.jupyter.widget-view+json": {
       "model_id": "",
       "version_major": 2,
       "version_minor": 0
      },
      "text/plain": [
       "FloatProgress(value=0.0, bar_style='info', description='Progress:', layout=Layout(height='25px', width='50%'),…"
      ]
     },
     "metadata": {},
     "output_type": "display_data"
    },
    {
     "name": "stdout",
     "output_type": "stream",
     "text": [
      "+-----------------+----------+---------------------+----------------------------+------------+-------------------------+---------+----+------------------------+----+----------------+------------------+------+-------------------+---------------+----------+---------------------------+---------------+--------------------+---------------------+--------------------+------------------+-----------------------+\n",
      "|fecha reporte web|ID de caso|Fecha de notificación|Código DIVIPOLA departamento|Departamento|Código DIVIPOLA municipio|Municipio|Edad|Unidad de medida de edad|Sexo|Tipo de contagio|Ubicación del caso|Estado|Código ISO del país|Nombre del país|Recuperado|Fecha de inicio de síntomas|Fecha de muerte|Fecha de diagnóstico|Fecha de recuperación|Tipo de recuperación|Pertenencia étnica|Nombre del grupo étnico|\n",
      "+-----------------+----------+---------------------+----------------------------+------------+-------------------------+---------+----+------------------------+----+----------------+------------------+------+-------------------+---------------+----------+---------------------------+---------------+--------------------+---------------------+--------------------+------------------+-----------------------+\n",
      "+-----------------+----------+---------------------+----------------------------+------------+-------------------------+---------+----+------------------------+----+----------------+------------------+------+-------------------+---------------+----------+---------------------------+---------------+--------------------+---------------------+--------------------+------------------+-----------------------+"
     ]
    }
   ],
   "source": [
    "# Filtra el DataFrame df para incluir solo las filas donde la columna \"Departamento\" es igual a \"Antioquia\"\n",
    "# y la columna \"Edad\" es mayor a 60. Almacena el DataFrame resultante en antioquia_elderly.\n",
    "antioquia_elderly = df.filter((df[\"Departamento\"] == \"Antioquia\") & (df[\"Edad\"] > 60))\n",
    "\n",
    "# Muestra las primeras 20 filas del DataFrame antioquia_elderly en un formato tabular.\n",
    "antioquia_elderly.show()\n",
    "\n",
    "# Guardar los datos filtrados en un archivo CSV en S3 con sobrescritura\n",
    "# coalesce(1) asegura que los datos se escriban en un solo archivo\n",
    "antioquia_elderly.coalesce(1).write.format(\"csv\").option(\"header\", \"true\").mode(\"overwrite\").save(write_uri + \"antioquia_elderly_csv\")\n",
    "\n",
    "# Guardar los datos filtrados en un archivo Parquet con sobrescritura\n",
    "antioquia_elderly.write.format('parquet').mode(\"overwrite\").save(parquet_uri + \"antioquia_elderly_parquet\")\n"
   ]
  },
  {
   "cell_type": "code",
   "execution_count": 26,
   "id": "2db2cbfe",
   "metadata": {},
   "outputs": [
    {
     "data": {
      "application/vnd.jupyter.widget-view+json": {
       "model_id": "",
       "version_major": 2,
       "version_minor": 0
      },
      "text/plain": [
       "FloatProgress(value=0.0, bar_style='info', description='Progress:', layout=Layout(height='25px', width='50%'),…"
      ]
     },
     "metadata": {},
     "output_type": "display_data"
    },
    {
     "name": "stdout",
     "output_type": "stream",
     "text": [
      "+---------------+----+---------+\n",
      "|   Departamento|Edad|   Estado|\n",
      "+---------------+----+---------+\n",
      "|          VALLE|  67|     Leve|\n",
      "|          VALLE|  66|     Leve|\n",
      "|          VALLE|  68|     Leve|\n",
      "|          VALLE|  74|Fallecido|\n",
      "|          VALLE|  65|     Leve|\n",
      "|          VALLE|  66|     Leve|\n",
      "|          VALLE|  74|     Leve|\n",
      "|          VALLE|  66|Fallecido|\n",
      "|          VALLE|  64|     Leve|\n",
      "|          VALLE|  65|     Leve|\n",
      "|          VALLE|  62|     Leve|\n",
      "|          VALLE|  36|     Leve|\n",
      "|          VALLE|  36|     Leve|\n",
      "|          VALLE|  35|     Leve|\n",
      "|      ANTIOQUIA|  37|     Leve|\n",
      "|      SANTANDER|  77|     Leve|\n",
      "|NORTE SANTANDER|  52|     Leve|\n",
      "|         CALDAS|  46|     Leve|\n",
      "|      ANTIOQUIA|  37|     Leve|\n",
      "|         BOGOTA|  81|Fallecido|\n",
      "+---------------+----+---------+\n",
      "only showing top 20 rows\n",
      "\n",
      "+-------------------+----------+---------------------+----------------------------+---------------+-------------------------+-----------+----+------------------------+----+----------------+------------------+---------+-------------------+---------------+----------+---------------------------+-------------------+--------------------+---------------------+--------------------+------------------+-----------------------+-------------+\n",
      "|  fecha reporte web|ID de caso|Fecha de notificación|Código DIVIPOLA departamento|   Departamento|Código DIVIPOLA municipio|  Municipio|Edad|Unidad de medida de edad|Sexo|Tipo de contagio|Ubicación del caso|   Estado|Código ISO del país|Nombre del país|Recuperado|Fecha de inicio de síntomas|    Fecha de muerte|Fecha de diagnóstico|Fecha de recuperación|Tipo de recuperación|Pertenencia étnica|Nombre del grupo étnico|Rango de Edad|\n",
      "+-------------------+----------+---------------------+----------------------------+---------------+-------------------------+-----------+----+------------------------+----+----------------+------------------+---------+-------------------+---------------+----------+---------------------------+-------------------+--------------------+---------------------+--------------------+------------------+-----------------------+-------------+\n",
      "|2020-12-24 00:00:00|   1556979|  2020-12-22 00:00:00|                          76|          VALLE|                    76001|       CALI|  67|                       1|   f|     Comunitaria|              Casa|     Leve|               NULL|           NULL|Recuperado|        2020-12-21 00:00:00|               NULL| 2020-12-23 00:00:00|  2021-01-04 00:00:00|              Tiempo|                 6|                   NULL|        Mayor|\n",
      "|2020-12-24 00:00:00|   1556980|  2020-12-19 00:00:00|                          76|          VALLE|                    76001|       CALI|  66|                       1|   f|     Comunitaria|              Casa|     Leve|               NULL|           NULL|Recuperado|        2020-12-07 00:00:00|               NULL| 2020-12-23 00:00:00|  2020-12-25 00:00:00|              Tiempo|                 6|                   NULL|        Mayor|\n",
      "|2020-12-24 00:00:00|   1556981|  2020-12-19 00:00:00|                          76|          VALLE|                    76001|       CALI|  68|                       1|   f|     Comunitaria|              Casa|     Leve|               NULL|           NULL|Recuperado|        2020-12-18 00:00:00|               NULL| 2020-12-22 00:00:00|  2021-01-01 00:00:00|              Tiempo|                 6|                   NULL|        Mayor|\n",
      "|2020-12-24 00:00:00|   1556982|  2020-12-22 00:00:00|                          76|          VALLE|                    76001|       CALI|  74|                       1|   f|     Comunitaria|         Fallecido|Fallecido|               NULL|           NULL| Fallecido|        2020-12-17 00:00:00|2020-12-30 00:00:00| 2020-12-23 00:00:00|                 NULL|                NULL|                 6|                   NULL|        Mayor|\n",
      "|2020-12-24 00:00:00|   1556983|  2020-12-22 00:00:00|                          76|          VALLE|                    76001|       CALI|  65|                       1|   f|     Comunitaria|              Casa|     Leve|               NULL|           NULL|Recuperado|        2020-12-21 00:00:00|               NULL| 2020-12-23 00:00:00|  2021-01-04 00:00:00|              Tiempo|                 6|                   NULL|        Mayor|\n",
      "|2020-12-24 00:00:00|   1556984|  2020-12-15 00:00:00|                          76|          VALLE|                    76001|       CALI|  66|                       1|   f|     Comunitaria|              Casa|     Leve|               NULL|           NULL|Recuperado|        2020-12-09 00:00:00|               NULL| 2020-12-23 00:00:00|  2020-12-25 00:00:00|              Tiempo|                 6|                   NULL|        Mayor|\n",
      "|2020-12-24 00:00:00|   1556985|  2020-12-21 00:00:00|                          76|          VALLE|                    76001|       CALI|  74|                       1|   f|     Comunitaria|              Casa|     Leve|               NULL|           NULL|Recuperado|        2020-12-14 00:00:00|               NULL| 2020-12-22 00:00:00|  2020-12-28 00:00:00|              Tiempo|                 6|                   NULL|        Mayor|\n",
      "|2020-12-24 00:00:00|   1556986|  2020-12-18 00:00:00|                          76|          VALLE|                    76001|       CALI|  66|                       1|   f|     Comunitaria|         Fallecido|Fallecido|               NULL|           NULL| Fallecido|        2020-12-11 00:00:00|2020-12-26 00:00:00| 2020-12-22 00:00:00|                 NULL|                NULL|                 6|                   NULL|        Mayor|\n",
      "|2020-12-24 00:00:00|   1556987|  2020-12-18 00:00:00|                          76|          VALLE|                    76001|       CALI|  64|                       1|   f|     Comunitaria|              Casa|     Leve|               NULL|           NULL|Recuperado|        2020-12-15 00:00:00|               NULL| 2020-12-23 00:00:00|  2020-12-30 00:00:00|              Tiempo|                 6|                   NULL|        Mayor|\n",
      "|2020-12-24 00:00:00|   1556988|  2020-12-17 00:00:00|                          76|          VALLE|                    76001|       CALI|  65|                       1|   f|     Comunitaria|              Casa|     Leve|               NULL|           NULL|Recuperado|        2020-12-08 00:00:00|               NULL| 2020-12-22 00:00:00|  2020-12-25 00:00:00|              Tiempo|                 6|                   NULL|        Mayor|\n",
      "|2020-12-24 00:00:00|   1556989|  2020-12-16 00:00:00|                          76|          VALLE|                    76001|       CALI|  62|                       1|   f|     Comunitaria|              Casa|     Leve|               NULL|           NULL|Recuperado|        2020-12-08 00:00:00|               NULL| 2020-12-23 00:00:00|  2021-04-23 00:00:00|              Tiempo|                 6|                   NULL|        Mayor|\n",
      "|2020-12-24 00:00:00|   1556990|  2020-12-08 00:00:00|                          76|          VALLE|                    76001|       CALI|  36|                       1|   f|     Comunitaria|              Casa|     Leve|               NULL|           NULL|Recuperado|        2020-12-01 00:00:00|               NULL| 2020-12-12 00:00:00|  2020-12-25 00:00:00|              Tiempo|                 6|                   NULL|       Adulto|\n",
      "|2020-12-24 00:00:00|   1556991|  2020-12-22 00:00:00|                          76|          VALLE|                    76001|       CALI|  36|                       1|   f|     Comunitaria|              Casa|     Leve|               NULL|           NULL|Recuperado|        2020-12-19 00:00:00|               NULL| 2020-12-21 00:00:00|  2021-01-02 00:00:00|                 PCR|                 6|                   NULL|       Adulto|\n",
      "|2020-12-24 00:00:00|   1556992|  2020-12-19 00:00:00|                          76|          VALLE|                    76001|       CALI|  35|                       1|   f|     Comunitaria|              Casa|     Leve|               NULL|           NULL|Recuperado|        2020-12-12 00:00:00|               NULL| 2020-12-23 00:00:00|  2020-12-27 00:00:00|              Tiempo|                 6|                   NULL|       Adulto|\n",
      "|2020-11-08 00:00:00|   1137429|  2020-11-05 00:00:00|                           5|      ANTIOQUIA|                     5266|   ENVIGADO|  37|                       1|   f|     Comunitaria|              Casa|     Leve|               NULL|           NULL|Recuperado|        2020-10-31 00:00:00|               NULL| 2020-11-06 00:00:00|  2021-04-25 00:00:00|                 PCR|                 6|                   NULL|       Adulto|\n",
      "|2020-11-08 00:00:00|   1137430|  2020-10-31 00:00:00|                          68|      SANTANDER|                    68001|BUCARAMANGA|  77|                       1|   m|     Comunitaria|              Casa|     Leve|               NULL|           NULL|Recuperado|        2020-10-31 00:00:00|               NULL| 2020-11-06 00:00:00|  2020-11-15 00:00:00|              Tiempo|                 6|                   NULL|        Mayor|\n",
      "|2020-11-08 00:00:00|   1137431|  2020-11-04 00:00:00|                          54|NORTE SANTANDER|                    54001|     CUCUTA|  52|                       1|   m|     Comunitaria|              Casa|     Leve|               NULL|           NULL|Recuperado|        2020-10-31 00:00:00|               NULL| 2020-11-07 00:00:00|  2020-11-15 00:00:00|              Tiempo|                 6|                   NULL|       Adulto|\n",
      "|2020-11-08 00:00:00|   1137432|  2020-11-06 00:00:00|                          17|         CALDAS|                    17001|  MANIZALES|  46|                       1|   f|     Comunitaria|              Casa|     Leve|               NULL|           NULL|Recuperado|        2020-10-31 00:00:00|               NULL| 2020-11-06 00:00:00|  2020-11-15 00:00:00|              Tiempo|                 6|                   NULL|       Adulto|\n",
      "|2020-11-08 00:00:00|   1137433|  2020-11-04 00:00:00|                           5|      ANTIOQUIA|                     5266|   ENVIGADO|  37|                       1|   f|     Comunitaria|              Casa|     Leve|               NULL|           NULL|Recuperado|        2020-10-31 00:00:00|               NULL| 2020-11-04 00:00:00|  2020-11-15 00:00:00|              Tiempo|                 6|                   NULL|       Adulto|\n",
      "|2020-11-08 00:00:00|   1137434|  2020-11-05 00:00:00|                          11|         BOGOTA|                    11001|     BOGOTA|  81|                       1|   f|     Relacionado|         Fallecido|Fallecido|               NULL|           NULL| Fallecido|        2020-10-31 00:00:00|2020-11-11 00:00:00| 2020-11-07 00:00:00|                 NULL|                NULL|                 6|                   NULL|        Mayor|\n",
      "+-------------------+----------+---------------------+----------------------------+---------------+-------------------------+-----------+----+------------------------+----+----------------+------------------+---------+-------------------+---------------+----------+---------------------------+-------------------+--------------------+---------------------+--------------------+------------------+-----------------------+-------------+\n",
      "only showing top 20 rows"
     ]
    }
   ],
   "source": [
    "selected_data = df.select(\"Departamento\", \"Edad\", \"Estado\")\n",
    "# Crea un nuevo DataFrame selected_data que contiene solo las columnas especificadas:\n",
    "# \"Departamento\", \"Edad\" y \"Estado\".\n",
    "\n",
    "selected_data.show()\n",
    "# Muestra las primeras 20 filas del nuevo DataFrame selected_data en un formato tabular.\n",
    "\n",
    "from pyspark.sql.functions import when\n",
    "# Importa la función when del módulo pyspark.sql.functions, que se usa para crear nuevas columnas basadas en condiciones.\n",
    "\n",
    "categorized_data = df.withColumn(\n",
    "    \"Rango de Edad\",\n",
    "    when(df[\"Edad\"] < 18, \"Menor\").when(df[\"Edad\"] <= 60, \"Adulto\").otherwise(\"Mayor\")\n",
    ")\n",
    "# Crea una nueva columna \"Rango de Edad\" en el DataFrame df, asignando etiquetas basadas en la columna \"Edad\":\n",
    "# Si \"Edad\" es menor de 18, la etiqueta es \"Menor\".\n",
    "# Si \"Edad\" está entre 18 y 60 (inclusive), la etiqueta es \"Adulto\".\n",
    "# Si \"Edad\" es mayor de 60, la etiqueta es \"Mayor\".\n",
    "\n",
    "categorized_data.show()\n",
    "# Muestra las primeras 20 filas del nuevo DataFrame categorized_data en un formato tabular."
   ]
  },
  {
   "cell_type": "code",
   "execution_count": 25,
   "id": "25504186",
   "metadata": {},
   "outputs": [
    {
     "data": {
      "application/vnd.jupyter.widget-view+json": {
       "model_id": "",
       "version_major": 2,
       "version_minor": 0
      },
      "text/plain": [
       "FloatProgress(value=0.0, bar_style='info', description='Progress:', layout=Layout(height='25px', width='50%'),…"
      ]
     },
     "metadata": {},
     "output_type": "display_data"
    },
    {
     "name": "stdout",
     "output_type": "stream",
     "text": [
      "+-----------------+----------+---------------------+----------------------------+------------+-------------------------+---------+----+------------------------+----+----------------+------------------+------+-------------------+---------------+----------+---------------------------+---------------+--------------------+---------------------+--------------------+------------------+-----------------------+\n",
      "|fecha reporte web|ID de caso|Fecha de notificación|Código DIVIPOLA departamento|Departamento|Código DIVIPOLA municipio|Municipio|Edad|Unidad de medida de edad|Sexo|Tipo de contagio|Ubicación del caso|Estado|Código ISO del país|Nombre del país|Recuperado|Fecha de inicio de síntomas|Fecha de muerte|Fecha de diagnóstico|Fecha de recuperación|Tipo de recuperación|Pertenencia étnica|Nombre del grupo étnico|\n",
      "+-----------------+----------+---------------------+----------------------------+------------+-------------------------+---------+----+------------------------+----+----------------+------------------+------+-------------------+---------------+----------+---------------------------+---------------+--------------------+---------------------+--------------------+------------------+-----------------------+\n",
      "+-----------------+----------+---------------------+----------------------------+------------+-------------------------+---------+----+------------------------+----+----------------+------------------+------+-------------------+---------------+----------+---------------------------+---------------+--------------------+---------------------+--------------------+------------------+-----------------------+"
     ]
    }
   ],
   "source": [
    "# Filtra el DataFrame df para incluir solo las filas donde la columna \"Departamento\" es igual a \"Antioquia\"\n",
    "# o la columna \"Departamento\" es igual a \"Bogotá\". Almacena el DataFrame resultante en major_cities.\n",
    "major_cities = df.filter((df[\"Departamento\"] == \"Antioquia\") | (df[\"Departamento\"] == \"Bogotá\"))\n",
    "\n",
    "# Muestra las primeras 20 filas del DataFrame major_cities en un formato tabular.\n",
    "major_cities.show()\n",
    "\n",
    "# Guardar los datos filtrados en un archivo CSV en S3 con sobrescritura\n",
    "# coalesce(1) asegura que los datos se escriban en un solo archivo\n",
    "major_cities.coalesce(1).write.format(\"csv\").option(\"header\", \"true\").mode(\"overwrite\").save(write_uri + \"major_cities_csv\")\n",
    "\n",
    "# Guardar los datos filtrados en un archivo Parquet con sobrescritura\n",
    "major_cities.write.format('parquet').mode(\"overwrite\").save(parquet_uri + \"major_cities_parquet\")\n"
   ]
  },
  {
   "cell_type": "code",
   "execution_count": 27,
   "id": "4a12aa5e",
   "metadata": {},
   "outputs": [
    {
     "data": {
      "application/vnd.jupyter.widget-view+json": {
       "model_id": "",
       "version_major": 2,
       "version_minor": 0
      },
      "text/plain": [
       "FloatProgress(value=0.0, bar_style='info', description='Progress:', layout=Layout(height='25px', width='50%'),…"
      ]
     },
     "metadata": {},
     "output_type": "display_data"
    },
    {
     "name": "stdout",
     "output_type": "stream",
     "text": [
      "+---------------+------+\n",
      "|   Departamento| count|\n",
      "+---------------+------+\n",
      "|       CASANARE| 43302|\n",
      "|      ANTIOQUIA|955271|\n",
      "|   CUNDINAMARCA|331331|\n",
      "|       PUTUMAYO| 22142|\n",
      "|          VALLE|572724|\n",
      "|         NARIÑO|108967|\n",
      "|          CAUCA| 77337|\n",
      "|        VICHADA|  3496|\n",
      "|        QUINDIO| 73290|\n",
      "|          HUILA|103578|\n",
      "|          SUCRE| 67471|\n",
      "|         Caldas|     1|\n",
      "|          CESAR|109830|\n",
      "|      SANTANDER|297370|\n",
      "|        CAQUETA| 25750|\n",
      "|       AMAZONAS|  7879|\n",
      "|NORTE SANTANDER|126015|\n",
      "|          CHOCO| 18907|\n",
      "|         CALDAS|120029|\n",
      "|      RISARALDA|110235|\n",
      "+---------------+------+\n",
      "only showing top 20 rows\n",
      "\n",
      "+---------+------------------+\n",
      "|   Estado|         avg(Edad)|\n",
      "+---------+------------------+\n",
      "|     Leve| 39.13180723764625|\n",
      "|Fallecido| 68.47793886462883|\n",
      "|      N/A| 68.71995250557333|\n",
      "|     leve| 39.36594038282994|\n",
      "|     LEVE|              21.0|\n",
      "|    Grave|42.509433962264154|\n",
      "| Moderado| 37.55776515151515|\n",
      "+---------+------------------+\n",
      "\n",
      "+------------+---------+------+\n",
      "|Departamento|   Estado| count|\n",
      "+------------+---------+------+\n",
      "|   SANTANDER|Fallecido|  8427|\n",
      "|BARRANQUILLA|     Leve|266220|\n",
      "|       CAUCA|     leve|  1270|\n",
      "|      BOYACA|      N/A|  1089|\n",
      "|      BOYACA|     leve|  2118|\n",
      "|   ANTIOQUIA|     Leve|928454|\n",
      "|       SUCRE|Fallecido|  1759|\n",
      "|       CESAR|Fallecido|  2699|\n",
      "|    GUAVIARE|      N/A|    41|\n",
      "|     VICHADA|Fallecido|    65|\n",
      "|CUNDINAMARCA|     leve|  4598|\n",
      "|     CORDOBA|Fallecido|  4001|\n",
      "|        META|     Leve|103814|\n",
      "|      ARAUCA|Fallecido|   588|\n",
      "|     GUAINIA|      N/A|    16|\n",
      "|      NARIÑO|      N/A|   852|\n",
      "|      BOYACA|     Leve|124967|\n",
      "|   ATLANTICO|      N/A|   962|\n",
      "|      CALDAS|Fallecido|  2587|\n",
      "|   CARTAGENA|     leve|  3944|\n",
      "+------------+---------+------+\n",
      "only showing top 20 rows"
     ]
    }
   ],
   "source": [
    "cases_by_department = df.groupBy(\"Departamento\").count()\n",
    "# Agrupa el DataFrame df por la columna \"Departamento\".\n",
    "# Cuenta el número de filas en cada grupo.\n",
    "# Almacena el DataFrame resultante en cases_by_department.\n",
    "\n",
    "cases_by_department.show()\n",
    "# Muestra las primeras 20 filas del DataFrame cases_by_department en un formato tabular.\n",
    "\n",
    "avg_age_by_state = df.groupBy(\"Estado\").avg(\"Edad\")\n",
    "# Agrupa el DataFrame df por la columna \"Estado\".\n",
    "# Calcula la edad promedio (\"Edad\") en cada grupo.\n",
    "# Almacena el DataFrame resultante en avg_age_by_state.\n",
    "\n",
    "avg_age_by_state.show()\n",
    "# Muestra las primeras 20 filas del DataFrame avg_age_by_state en un formato tabular.\n",
    "\n",
    "department_state_cases = df.groupBy(\"Departamento\", \"Estado\").count()\n",
    "# Agrupa el DataFrame df por las columnas \"Departamento\" y \"Estado\".\n",
    "# Cuenta el número de filas en cada grupo.\n",
    "# Almacena el DataFrame resultante en department_state_cases.\n",
    "\n",
    "department_state_cases.show()\n",
    "# Muestra las primeras 20 filas del DataFrame department_state_cases en un formato tabular."
   ]
  },
  {
   "cell_type": "code",
   "execution_count": 26,
   "id": "bbc5fec1",
   "metadata": {},
   "outputs": [
    {
     "data": {
      "application/vnd.jupyter.widget-view+json": {
       "model_id": "",
       "version_major": 2,
       "version_minor": 0
      },
      "text/plain": [
       "FloatProgress(value=0.0, bar_style='info', description='Progress:', layout=Layout(height='25px', width='50%'),…"
      ]
     },
     "metadata": {},
     "output_type": "display_data"
    },
    {
     "name": "stdout",
     "output_type": "stream",
     "text": [
      "+-------------------+----------+---------------------+----------------------------+---------------+-------------------------+-------------+----+------------------------+----+----------------+------------------+---------+-------------------+---------------+----------+---------------------------+-------------------+--------------------+---------------------+--------------------+------------------+-----------------------+\n",
      "|  fecha reporte web|ID de caso|Fecha de notificación|Código DIVIPOLA departamento|   Departamento|Código DIVIPOLA municipio|    Municipio|Edad|Unidad de medida de edad|Sexo|Tipo de contagio|Ubicación del caso|   Estado|Código ISO del país|Nombre del país|Recuperado|Fecha de inicio de síntomas|    Fecha de muerte|Fecha de diagnóstico|Fecha de recuperación|Tipo de recuperación|Pertenencia étnica|Nombre del grupo étnico|\n",
      "+-------------------+----------+---------------------+----------------------------+---------------+-------------------------+-------------+----+------------------------+----+----------------+------------------+---------+-------------------+---------------+----------+---------------------------+-------------------+--------------------+---------------------+--------------------+------------------+-----------------------+\n",
      "|2020-12-24 00:00:00|   1556986|  2020-12-18 00:00:00|                          76|          VALLE|                    76001|         CALI|  66|                       1|   f|     Comunitaria|         Fallecido|Fallecido|               NULL|           NULL| Fallecido|        2020-12-11 00:00:00|2020-12-26 00:00:00| 2020-12-22 00:00:00|                 NULL|                NULL|                 6|                   NULL|\n",
      "|2020-11-08 00:00:00|   1137431|  2020-11-04 00:00:00|                          54|NORTE SANTANDER|                    54001|       CUCUTA|  52|                       1|   m|     Comunitaria|              Casa|     Leve|               NULL|           NULL|Recuperado|        2020-10-31 00:00:00|               NULL| 2020-11-07 00:00:00|  2020-11-15 00:00:00|              Tiempo|                 6|                   NULL|\n",
      "|2020-11-08 00:00:00|   1137433|  2020-11-04 00:00:00|                           5|      ANTIOQUIA|                     5266|     ENVIGADO|  37|                       1|   f|     Comunitaria|              Casa|     Leve|               NULL|           NULL|Recuperado|        2020-10-31 00:00:00|               NULL| 2020-11-04 00:00:00|  2020-11-15 00:00:00|              Tiempo|                 6|                   NULL|\n",
      "|2020-12-24 00:00:00|   1556949|  2020-12-18 00:00:00|                          76|          VALLE|                    76001|         CALI|  41|                       1|   f|     Comunitaria|              Casa|     Leve|               NULL|           NULL|Recuperado|        2020-12-11 00:00:00|               NULL| 2020-12-22 00:00:00|  2020-12-26 00:00:00|              Tiempo|                 6|                   NULL|\n",
      "|2020-12-08 00:00:00|   1379951|  2020-11-16 00:00:00|                          76|          VALLE|                    76001|         CALI|  33|                       1|   f|     Relacionado|              Casa|     Leve|               NULL|           NULL|Recuperado|        2020-11-09 00:00:00|               NULL| 2020-11-20 00:00:00|  2020-12-09 00:00:00|              Tiempo|                 6|                   NULL|\n",
      "|2020-12-08 00:00:00|   1379956|  2020-12-01 00:00:00|                          76|          VALLE|                    76001|         CALI|  33|                       1|   f|     Comunitaria|              Casa|     Leve|               NULL|           NULL|Recuperado|        2020-11-24 00:00:00|               NULL| 2020-12-05 00:00:00|  2020-12-09 00:00:00|              Tiempo|                 6|                   NULL|\n",
      "|2020-12-08 00:00:00|   1379959|  2020-11-28 00:00:00|                          76|          VALLE|                    76001|         CALI|  34|                       1|   f|     Comunitaria|              Casa|     Leve|               NULL|           NULL|Recuperado|        2020-11-21 00:00:00|               NULL| 2020-12-02 00:00:00|  2020-12-09 00:00:00|              Tiempo|                 6|                   NULL|\n",
      "|2020-12-08 00:00:00|   1379965|  2020-11-20 00:00:00|                          76|          VALLE|                    76001|         CALI|  31|                       1|   f|     Comunitaria|              Casa|     Leve|               NULL|           NULL|Recuperado|        2020-11-13 00:00:00|               NULL| 2020-11-24 00:00:00|  2020-12-09 00:00:00|              Tiempo|                 6|                   NULL|\n",
      "|2020-11-08 00:00:00|   1137413|  2020-11-06 00:00:00|                          20|          CESAR|                    20550|       PELAYA|  40|                       1|   m|     Comunitaria|              Casa|     Leve|               NULL|           NULL|Recuperado|        2020-10-31 00:00:00|               NULL| 2020-11-06 00:00:00|  2020-11-20 00:00:00|              Tiempo|                 6|                   NULL|\n",
      "|2020-11-08 00:00:00|   1137422|  2020-11-06 00:00:00|                          66|      RISARALDA|                    66001|      PEREIRA|  49|                       1|   m|     Comunitaria|              Casa|     Leve|               NULL|           NULL|Recuperado|        2020-10-31 00:00:00|               NULL| 2020-11-05 00:00:00|  2020-11-15 00:00:00|              Tiempo|                 6|                   NULL|\n",
      "|2020-11-08 00:00:00|   1137424|  2020-11-01 00:00:00|                          50|           META|                    50001|VILLAVICENCIO|  82|                       1|   f|     Comunitaria|         Fallecido|Fallecido|               NULL|           NULL| Fallecido|        2020-10-31 00:00:00|2020-11-11 00:00:00| 2020-11-06 00:00:00|                 NULL|                NULL|                 1|            Por definir|\n",
      "|2020-08-05 00:00:00|    338074|  2020-08-03 00:00:00|                           5|      ANTIOQUIA|                     5001|     MEDELLIN|  25|                       1|   m|     Comunitaria|              Casa|     Leve|               NULL|           NULL|Recuperado|        2020-07-30 00:00:00|               NULL| 2020-08-04 00:00:00|  2020-08-24 00:00:00|              Tiempo|                 5|                   NULL|\n",
      "|2020-08-05 00:00:00|    338076|  2020-08-03 00:00:00|                           5|      ANTIOQUIA|                     5001|     MEDELLIN|  29|                       1|   f|     Comunitaria|              Casa|     Leve|               NULL|           NULL|Recuperado|        2020-07-30 00:00:00|               NULL| 2020-08-04 00:00:00|  2020-08-24 00:00:00|              Tiempo|                 5|                   NULL|\n",
      "|2020-08-05 00:00:00|    338077|  2020-07-30 00:00:00|                           5|      ANTIOQUIA|                     5001|     MEDELLIN|  70|                       1|   f|     Comunitaria|              Casa|     Leve|               NULL|           NULL|Recuperado|        2020-07-30 00:00:00|               NULL| 2020-08-04 00:00:00|  2020-08-24 00:00:00|              Tiempo|                 5|                   NULL|\n",
      "|2020-08-05 00:00:00|    338080|  2020-07-30 00:00:00|                          73|         TOLIMA|                    73001|       IBAGUE|  33|                       1|   f|     Comunitaria|              Casa|     Leve|               NULL|           NULL|Recuperado|        2020-07-30 00:00:00|               NULL| 2020-08-04 00:00:00|  2020-08-24 00:00:00|              Tiempo|                 5|                   NULL|\n",
      "|2020-08-05 00:00:00|    338093|  2020-07-30 00:00:00|                          17|         CALDAS|                    17777|        SUPIA|  19|                       1|   m|     Comunitaria|              Casa|     Leve|               NULL|           NULL|Recuperado|        2020-07-30 00:00:00|               NULL| 2020-08-04 00:00:00|  2020-08-24 00:00:00|              Tiempo|                 1|                 EMBERA|\n",
      "|2020-08-05 00:00:00|    338099|  2020-07-30 00:00:00|                          17|         CALDAS|                    17001|    MANIZALES|  51|                       1|   f|     Comunitaria|              Casa|     Leve|               NULL|           NULL|Recuperado|        2020-07-30 00:00:00|               NULL| 2020-08-04 00:00:00|  2020-08-24 00:00:00|                 PCR|                 6|                   NULL|\n",
      "|2020-07-25 00:00:00|    239058|  2020-07-14 00:00:00|                          11|         BOGOTA|                    11001|       BOGOTA|  45|                       1|   f|     Relacionado|              Casa|     Leve|               NULL|           NULL|Recuperado|        2020-07-08 00:00:00|               NULL| 2020-07-23 00:00:00|  2020-08-06 00:00:00|              Tiempo|                 6|                   NULL|\n",
      "|2020-07-25 00:00:00|    239061|  2020-07-15 00:00:00|                          11|         BOGOTA|                    11001|       BOGOTA|  14|                       1|   m|     Comunitaria|              Casa|     Leve|               NULL|           NULL|Recuperado|        2020-07-01 00:00:00|               NULL| 2020-07-24 00:00:00|  2020-07-31 00:00:00|              Tiempo|                 6|                   NULL|\n",
      "|2021-01-14 00:00:00|   1841905|  2021-01-12 00:00:00|                          11|         BOGOTA|                    11001|       BOGOTA|  39|                       1|   m|     Comunitaria|              Casa|     Leve|               NULL|           NULL|Recuperado|        2021-01-08 00:00:00|               NULL| 2021-01-12 00:00:00|  2021-01-29 00:00:00|              Tiempo|                 6|                   NULL|\n",
      "+-------------------+----------+---------------------+----------------------------+---------------+-------------------------+-------------+----+------------------------+----+----------------+------------------+---------+-------------------+---------------+----------+---------------------------+-------------------+--------------------+---------------------+--------------------+------------------+-----------------------+\n",
      "only showing top 20 rows"
     ]
    }
   ],
   "source": [
    "# Toma una muestra aleatoria del 10% del DataFrame df.\n",
    "# La fracción de datos muestreados se especifica con fraction=0.1.\n",
    "# El parámetro seed se usa para asegurar que el muestreo sea reproducible.\n",
    "sample_data = df.sample(fraction=0.1, seed=42)\n",
    "\n",
    "# Muestra las primeras 20 filas del DataFrame sample_data en un formato tabular.\n",
    "sample_data.show()\n",
    "\n",
    "# Guardar los datos muestreados en un archivo CSV en S3 con sobrescritura\n",
    "# coalesce(1) asegura que los datos se escriban en un solo archivo\n",
    "sample_data.coalesce(1).write.format(\"csv\").option(\"header\", \"true\").mode(\"overwrite\").save(write_uri + \"sample_data_csv\")\n",
    "\n",
    "# Guardar los datos muestreados en un archivo Parquet con sobrescritura\n",
    "sample_data.write.format('parquet').mode(\"overwrite\").save(parquet_uri + \"sample_data_parquet\")\n"
   ]
  },
  {
   "cell_type": "code",
   "execution_count": 27,
   "id": "d4c023d1",
   "metadata": {},
   "outputs": [
    {
     "data": {
      "application/vnd.jupyter.widget-view+json": {
       "model_id": "",
       "version_major": 2,
       "version_minor": 0
      },
      "text/plain": [
       "FloatProgress(value=0.0, bar_style='info', description='Progress:', layout=Layout(height='25px', width='50%'),…"
      ]
     },
     "metadata": {},
     "output_type": "display_data"
    },
    {
     "name": "stdout",
     "output_type": "stream",
     "text": [
      "+-------------------+----------+---------------------+----------------------------+---------------+-------------------------+-----------+----+------------------------+----+----------------+------------------+---------+-------------------+---------------+----------+---------------------------+-------------------+--------------------+---------------------+--------------------+------------------+-----------------------+-------------------+\n",
      "|  fecha reporte web|ID de caso|Fecha de notificación|Código DIVIPOLA departamento|   Departamento|Código DIVIPOLA municipio|  Municipio|Edad|Unidad de medida de edad|Sexo|Tipo de contagio|Ubicación del caso|   Estado|Código ISO del país|Nombre del país|Recuperado|Fecha de inicio de síntomas|    Fecha de muerte|Fecha de diagnóstico|Fecha de recuperación|Tipo de recuperación|Pertenencia étnica|Nombre del grupo étnico|Categor?a de Estado|\n",
      "+-------------------+----------+---------------------+----------------------------+---------------+-------------------------+-----------+----+------------------------+----+----------------+------------------+---------+-------------------+---------------+----------+---------------------------+-------------------+--------------------+---------------------+--------------------+------------------+-----------------------+-------------------+\n",
      "|2020-12-24 00:00:00|   1556979|  2020-12-22 00:00:00|                          76|          VALLE|                    76001|       CALI|  67|                       1|   f|     Comunitaria|              Casa|     Leve|               NULL|           NULL|Recuperado|        2020-12-21 00:00:00|               NULL| 2020-12-23 00:00:00|  2021-01-04 00:00:00|              Tiempo|                 6|                   NULL|             Activo|\n",
      "|2020-12-24 00:00:00|   1556980|  2020-12-19 00:00:00|                          76|          VALLE|                    76001|       CALI|  66|                       1|   f|     Comunitaria|              Casa|     Leve|               NULL|           NULL|Recuperado|        2020-12-07 00:00:00|               NULL| 2020-12-23 00:00:00|  2020-12-25 00:00:00|              Tiempo|                 6|                   NULL|             Activo|\n",
      "|2020-12-24 00:00:00|   1556981|  2020-12-19 00:00:00|                          76|          VALLE|                    76001|       CALI|  68|                       1|   f|     Comunitaria|              Casa|     Leve|               NULL|           NULL|Recuperado|        2020-12-18 00:00:00|               NULL| 2020-12-22 00:00:00|  2021-01-01 00:00:00|              Tiempo|                 6|                   NULL|             Activo|\n",
      "|2020-12-24 00:00:00|   1556982|  2020-12-22 00:00:00|                          76|          VALLE|                    76001|       CALI|  74|                       1|   f|     Comunitaria|         Fallecido|Fallecido|               NULL|           NULL| Fallecido|        2020-12-17 00:00:00|2020-12-30 00:00:00| 2020-12-23 00:00:00|                 NULL|                NULL|                 6|                   NULL|            Cr?tico|\n",
      "|2020-12-24 00:00:00|   1556983|  2020-12-22 00:00:00|                          76|          VALLE|                    76001|       CALI|  65|                       1|   f|     Comunitaria|              Casa|     Leve|               NULL|           NULL|Recuperado|        2020-12-21 00:00:00|               NULL| 2020-12-23 00:00:00|  2021-01-04 00:00:00|              Tiempo|                 6|                   NULL|             Activo|\n",
      "|2020-12-24 00:00:00|   1556984|  2020-12-15 00:00:00|                          76|          VALLE|                    76001|       CALI|  66|                       1|   f|     Comunitaria|              Casa|     Leve|               NULL|           NULL|Recuperado|        2020-12-09 00:00:00|               NULL| 2020-12-23 00:00:00|  2020-12-25 00:00:00|              Tiempo|                 6|                   NULL|             Activo|\n",
      "|2020-12-24 00:00:00|   1556985|  2020-12-21 00:00:00|                          76|          VALLE|                    76001|       CALI|  74|                       1|   f|     Comunitaria|              Casa|     Leve|               NULL|           NULL|Recuperado|        2020-12-14 00:00:00|               NULL| 2020-12-22 00:00:00|  2020-12-28 00:00:00|              Tiempo|                 6|                   NULL|             Activo|\n",
      "|2020-12-24 00:00:00|   1556986|  2020-12-18 00:00:00|                          76|          VALLE|                    76001|       CALI|  66|                       1|   f|     Comunitaria|         Fallecido|Fallecido|               NULL|           NULL| Fallecido|        2020-12-11 00:00:00|2020-12-26 00:00:00| 2020-12-22 00:00:00|                 NULL|                NULL|                 6|                   NULL|            Cr?tico|\n",
      "|2020-12-24 00:00:00|   1556987|  2020-12-18 00:00:00|                          76|          VALLE|                    76001|       CALI|  64|                       1|   f|     Comunitaria|              Casa|     Leve|               NULL|           NULL|Recuperado|        2020-12-15 00:00:00|               NULL| 2020-12-23 00:00:00|  2020-12-30 00:00:00|              Tiempo|                 6|                   NULL|             Activo|\n",
      "|2020-12-24 00:00:00|   1556988|  2020-12-17 00:00:00|                          76|          VALLE|                    76001|       CALI|  65|                       1|   f|     Comunitaria|              Casa|     Leve|               NULL|           NULL|Recuperado|        2020-12-08 00:00:00|               NULL| 2020-12-22 00:00:00|  2020-12-25 00:00:00|              Tiempo|                 6|                   NULL|             Activo|\n",
      "|2020-12-24 00:00:00|   1556989|  2020-12-16 00:00:00|                          76|          VALLE|                    76001|       CALI|  62|                       1|   f|     Comunitaria|              Casa|     Leve|               NULL|           NULL|Recuperado|        2020-12-08 00:00:00|               NULL| 2020-12-23 00:00:00|  2021-04-23 00:00:00|              Tiempo|                 6|                   NULL|             Activo|\n",
      "|2020-12-24 00:00:00|   1556990|  2020-12-08 00:00:00|                          76|          VALLE|                    76001|       CALI|  36|                       1|   f|     Comunitaria|              Casa|     Leve|               NULL|           NULL|Recuperado|        2020-12-01 00:00:00|               NULL| 2020-12-12 00:00:00|  2020-12-25 00:00:00|              Tiempo|                 6|                   NULL|             Activo|\n",
      "|2020-12-24 00:00:00|   1556991|  2020-12-22 00:00:00|                          76|          VALLE|                    76001|       CALI|  36|                       1|   f|     Comunitaria|              Casa|     Leve|               NULL|           NULL|Recuperado|        2020-12-19 00:00:00|               NULL| 2020-12-21 00:00:00|  2021-01-02 00:00:00|                 PCR|                 6|                   NULL|             Activo|\n",
      "|2020-12-24 00:00:00|   1556992|  2020-12-19 00:00:00|                          76|          VALLE|                    76001|       CALI|  35|                       1|   f|     Comunitaria|              Casa|     Leve|               NULL|           NULL|Recuperado|        2020-12-12 00:00:00|               NULL| 2020-12-23 00:00:00|  2020-12-27 00:00:00|              Tiempo|                 6|                   NULL|             Activo|\n",
      "|2020-11-08 00:00:00|   1137429|  2020-11-05 00:00:00|                           5|      ANTIOQUIA|                     5266|   ENVIGADO|  37|                       1|   f|     Comunitaria|              Casa|     Leve|               NULL|           NULL|Recuperado|        2020-10-31 00:00:00|               NULL| 2020-11-06 00:00:00|  2021-04-25 00:00:00|                 PCR|                 6|                   NULL|             Activo|\n",
      "|2020-11-08 00:00:00|   1137430|  2020-10-31 00:00:00|                          68|      SANTANDER|                    68001|BUCARAMANGA|  77|                       1|   m|     Comunitaria|              Casa|     Leve|               NULL|           NULL|Recuperado|        2020-10-31 00:00:00|               NULL| 2020-11-06 00:00:00|  2020-11-15 00:00:00|              Tiempo|                 6|                   NULL|             Activo|\n",
      "|2020-11-08 00:00:00|   1137431|  2020-11-04 00:00:00|                          54|NORTE SANTANDER|                    54001|     CUCUTA|  52|                       1|   m|     Comunitaria|              Casa|     Leve|               NULL|           NULL|Recuperado|        2020-10-31 00:00:00|               NULL| 2020-11-07 00:00:00|  2020-11-15 00:00:00|              Tiempo|                 6|                   NULL|             Activo|\n",
      "|2020-11-08 00:00:00|   1137432|  2020-11-06 00:00:00|                          17|         CALDAS|                    17001|  MANIZALES|  46|                       1|   f|     Comunitaria|              Casa|     Leve|               NULL|           NULL|Recuperado|        2020-10-31 00:00:00|               NULL| 2020-11-06 00:00:00|  2020-11-15 00:00:00|              Tiempo|                 6|                   NULL|             Activo|\n",
      "|2020-11-08 00:00:00|   1137433|  2020-11-04 00:00:00|                           5|      ANTIOQUIA|                     5266|   ENVIGADO|  37|                       1|   f|     Comunitaria|              Casa|     Leve|               NULL|           NULL|Recuperado|        2020-10-31 00:00:00|               NULL| 2020-11-04 00:00:00|  2020-11-15 00:00:00|              Tiempo|                 6|                   NULL|             Activo|\n",
      "|2020-11-08 00:00:00|   1137434|  2020-11-05 00:00:00|                          11|         BOGOTA|                    11001|     BOGOTA|  81|                       1|   f|     Relacionado|         Fallecido|Fallecido|               NULL|           NULL| Fallecido|        2020-10-31 00:00:00|2020-11-11 00:00:00| 2020-11-07 00:00:00|                 NULL|                NULL|                 6|                   NULL|            Cr?tico|\n",
      "+-------------------+----------+---------------------+----------------------------+---------------+-------------------------+-----------+----+------------------------+----+----------------+------------------+---------+-------------------+---------------+----------+---------------------------+-------------------+--------------------+---------------------+--------------------+------------------+-----------------------+-------------------+\n",
      "only showing top 20 rows"
     ]
    }
   ],
   "source": [
    "from pyspark.sql.functions import udf, col\n",
    "# Importa la función udf (User Defined Function) del módulo pyspark.sql.functions,\n",
    "# que permite definir funciones personalizadas para columnas de DataFrame.\n",
    "# Importa la función col para seleccionar columnas fácilmente.\n",
    "\n",
    "from pyspark.sql.types import StringType\n",
    "# Importa el tipo de datos StringType del módulo pyspark.sql.types,\n",
    "# que se utilizará para definir el tipo de retorno de la UDF.\n",
    "\n",
    "def estado_categoria(estado):\n",
    "    if estado == \"Fallecido\":\n",
    "        return \"Crítico\"\n",
    "    elif estado == \"Recuperado\":\n",
    "        return \"Resuelto\"\n",
    "    else:\n",
    "        return \"Activo\"\n",
    "# Define una función Python llamada estado_categoria que clasifica el estado de un individuo:\n",
    "# Si el estado es \"Fallecido\", retorna \"Crítico\".\n",
    "# Si el estado es \"Recuperado\", retorna \"Resuelto\".\n",
    "# En cualquier otro caso, retorna \"Activo\".\n",
    "\n",
    "estado_udf = udf(estado_categoria, StringType())\n",
    "# Crea una UDF llamada estado_udf a partir de la función estado_categoria,\n",
    "# especificando que el tipo de retorno es StringType.\n",
    "\n",
    "categorized_data = df.withColumn(\"Categoría de Estado\", estado_udf(df[\"Estado\"]))\n",
    "# Aplica la UDF estado_udf a la columna \"Estado\" del DataFrame df,\n",
    "# creando una nueva columna \"Categoría de Estado\" con los valores categorizados.\n",
    "\n",
    "categorized_data.show()\n",
    "# Muestra las primeras 20 filas del DataFrame categorized_data en un formato tabular.\n",
    "\n",
    "# Guardar los datos categorizados en un archivo CSV en S3 con sobrescritura\n",
    "# coalesce(1) asegura que los datos se escriban en un solo archivo\n",
    "categorized_data.coalesce(1).write.format(\"csv\").option(\"header\", \"true\").mode(\"overwrite\").save(write_uri + \"categorized_data_csv\")\n",
    "\n",
    "# Guardar los datos categorizados en un archivo Parquet con sobrescritura\n",
    "categorized_data.write.format('parquet').mode(\"overwrite\").save(parquet_uri + \"categorized_data_parquet\")\n"
   ]
  }
 ],
 "metadata": {
  "kernelspec": {
   "display_name": "PySpark",
   "language": "python",
   "name": "pysparkkernel"
  },
  "language_info": {
   "codemirror_mode": {
    "name": "python",
    "version": 3
   },
   "file_extension": ".py",
   "mimetype": "text/x-python",
   "name": "pyspark",
   "pygments_lexer": "python3"
  }
 },
 "nbformat": 4,
 "nbformat_minor": 5
}
