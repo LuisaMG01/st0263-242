{
 "cells": [
  {
   "cell_type": "code",
   "execution_count": 1,
   "id": "d37b93a9",
   "metadata": {},
   "outputs": [
    {
     "name": "stdout",
     "output_type": "stream",
     "text": [
      "Starting Spark application\n"
     ]
    },
    {
     "data": {
      "text/html": [
       "<table>\n",
       "<tr><th>ID</th><th>YARN Application ID</th><th>Kind</th><th>State</th><th>Spark UI</th><th>Driver log</th><th>User</th><th>Current session?</th></tr><tr><td>1</td><td>application_1732394786212_0002</td><td>spark</td><td>idle</td><td><a target=\"_blank\" href=\"http://ip-172-31-12-137.ec2.internal:20888/proxy/application_1732394786212_0002/\">Link</a></td><td><a target=\"_blank\" href=\"http://ip-172-31-2-86.ec2.internal:8042/node/containerlogs/container_1732394786212_0002_01_000001/livy\">Link</a></td><td>None</td><td>✔</td></tr></table>"
      ],
      "text/plain": [
       "<IPython.core.display.HTML object>"
      ]
     },
     "metadata": {},
     "output_type": "display_data"
    },
    {
     "data": {
      "application/vnd.jupyter.widget-view+json": {
       "model_id": "",
       "version_major": 2,
       "version_minor": 0
      },
      "text/plain": [
       "FloatProgress(value=0.0, bar_style='info', description='Progress:', layout=Layout(height='25px', width='50%'),…"
      ]
     },
     "metadata": {},
     "output_type": "display_data"
    },
    {
     "name": "stdout",
     "output_type": "stream",
     "text": [
      "SparkSession available as 'spark'.\n"
     ]
    },
    {
     "data": {
      "application/vnd.jupyter.widget-view+json": {
       "model_id": "",
       "version_major": 2,
       "version_minor": 0
      },
      "text/plain": [
       "FloatProgress(value=0.0, bar_style='info', description='Progress:', layout=Layout(height='25px', width='50%'),…"
      ]
     },
     "metadata": {},
     "output_type": "display_data"
    },
    {
     "name": "stdout",
     "output_type": "stream",
     "text": [
      "res1: org.apache.spark.sql.SparkSession = org.apache.spark.sql.SparkSession@72acf28a\n"
     ]
    }
   ],
   "source": [
    "spark"
   ]
  },
  {
   "cell_type": "code",
   "execution_count": 2,
   "id": "1c9a0f0d",
   "metadata": {},
   "outputs": [
    {
     "data": {
      "application/vnd.jupyter.widget-view+json": {
       "model_id": "",
       "version_major": 2,
       "version_minor": 0
      },
      "text/plain": [
       "FloatProgress(value=0.0, bar_style='info', description='Progress:', layout=Layout(height='25px', width='50%'),…"
      ]
     },
     "metadata": {},
     "output_type": "display_data"
    },
    {
     "name": "stdout",
     "output_type": "stream",
     "text": [
      "res2: org.apache.spark.SparkContext = org.apache.spark.SparkContext@13813f44\n"
     ]
    }
   ],
   "source": [
    "sc"
   ]
  },
  {
   "cell_type": "code",
   "execution_count": null,
   "id": "5631e395",
   "metadata": {},
   "outputs": [
    {
     "data": {
      "application/vnd.jupyter.widget-view+json": {
       "model_id": "e53de4190daf4dcabfc770241b8f1272",
       "version_major": 2,
       "version_minor": 0
      },
      "text/plain": [
       "FloatProgress(value=0.0, bar_style='info', description='Progress:', layout=Layout(height='25px', width='50%'),…"
      ]
     },
     "metadata": {},
     "output_type": "display_data"
    }
   ],
   "source": [
    "spark.sql(\n",
    "\"\"\"\n",
    "CREATE OR REPLACE TEMPORARY VIEW covid_data \n",
    "USING csv \n",
    "OPTIONS (path 's3://jupyterbuck/bigdata/datasets/covid.csv', header 'true', inferSchema 'true', encoding 'UTF-8');\n",
    "\"\"\"\n",
    ")\n"
   ]
  },
  {
   "cell_type": "code",
   "execution_count": null,
   "id": "73816f8e",
   "metadata": {},
   "outputs": [],
   "source": [
    "spark.sql(\n",
    "\"\"\"\n",
    "SELECT *\n",
    "FROM covid_data\n",
    "LIMIT 1\n",
    "\"\"\"\n",
    ").columns\n",
    "# Muestra una lista de los nombres de las columnas del DataFrame covid_data.\n"
   ]
  },
  {
   "cell_type": "code",
   "execution_count": null,
   "id": "1c0dee6c",
   "metadata": {},
   "outputs": [],
   "source": [
    "spark.sql(\n",
    "\"\"\"\n",
    "SELECT *\n",
    "FROM covid_data\n",
    "LIMIT 20\n",
    "\"\"\"\n",
    ").show()\n"
   ]
  },
  {
   "cell_type": "code",
   "execution_count": null,
   "id": "a873acde",
   "metadata": {},
   "outputs": [],
   "source": [
    "len(spark.sql(\n",
    "\"\"\"\n",
    "SELECT *\n",
    "FROM covid_data\n",
    "LIMIT 1\n",
    "\"\"\"\n",
    ").columns)\n",
    "# Retorna el número de columnas en el DataFrame covid_data.\n"
   ]
  },
  {
   "cell_type": "code",
   "execution_count": null,
   "id": "4343bc06",
   "metadata": {},
   "outputs": [],
   "source": [
    "spark.sql(\n",
    "\"\"\"\n",
    "SELECT COUNT(*) as total_rows\n",
    "FROM covid_data\n",
    "\"\"\"\n",
    ").show()\n",
    "# Cuenta el número total de filas en el DataFrame covid_data.\n"
   ]
  },
  {
   "cell_type": "code",
   "execution_count": null,
   "id": "777ff71b",
   "metadata": {},
   "outputs": [],
   "source": [
    "spark.sql(\n",
    "\"\"\"\n",
    "DESCRIBE TABLE covid_data\n",
    "\"\"\"\n",
    ").show(truncate=False)\n",
    "# Imprime el esquema del DataFrame covid_data en un formato tabular.\n"
   ]
  },
  {
   "cell_type": "code",
   "execution_count": null,
   "id": "16045af9",
   "metadata": {},
   "outputs": [],
   "source": [
    "write_uri='s3a://jupyterbuck/bigdata/jupyter/spark/csv/'"
   ]
  },
  {
   "cell_type": "code",
   "execution_count": null,
   "id": "65be80f4",
   "metadata": {},
   "outputs": [],
   "source": [
    "parquet_uri='s3a://jupyterbuck/bigdata/jupyter/spark/parket/'"
   ]
  },
  {
   "cell_type": "code",
   "execution_count": null,
   "id": "d1666bc0",
   "metadata": {},
   "outputs": [],
   "source": [
    "spark.sql(\n",
    "\"\"\"\n",
    "CREATE OR REPLACE TEMPORARY VIEW selected_data AS\n",
    "SELECT `Nombre departamento`, `Nombre municipio`, Edad, Sexo\n",
    "FROM covid_data\n",
    "\"\"\"\n",
    ")\n",
    "\n",
    "# Mostrar los datos seleccionados\n",
    "spark.sql(\"SELECT * FROM selected_data\").show()\n",
    "\n",
    "# Guardar en formato CSV en S3 con sobrescritura\n",
    "spark.sql(\"SELECT * FROM selected_data\").coalesce(1).write.format(\"csv\").option(\"header\", \"true\").mode(\"overwrite\").save(write_uri + \"selected_data\")\n",
    "\n",
    "# Guardar en formato Parquet con sobrescritura\n",
    "spark.sql(\"SELECT * FROM selected_data\").write.format('parquet').mode(\"overwrite\").save(parquet_uri + \"selected_data\")\n"
   ]
  },
  {
   "cell_type": "code",
   "execution_count": null,
   "id": "51639d18",
   "metadata": {},
   "outputs": [],
   "source": [
    "spark.sql(\n",
    "\"\"\"\n",
    "CREATE OR REPLACE TEMPORARY VIEW covid_data_renamed AS\n",
    "SELECT `Nombre Municipio` AS Municipio, `Nombre departamento` AS Departamento, *\n",
    "FROM covid_data\n",
    "\"\"\"\n",
    ")\n",
    "spark.sql(\n",
    "\"\"\"\n",
    "CREATE OR REPLACE TEMPORARY VIEW selected_data AS\n",
    "SELECT Departamento, Municipio, Edad, Sexo\n",
    "FROM covid_data_renamed\n",
    "\"\"\"\n",
    ")\n",
    "\n",
    "# Mostrar los datos seleccionados\n",
    "spark.sql(\"SELECT * FROM selected_data\").show()\n",
    "\n",
    "# Guardar en formato CSV en S3 con sobrescritura\n",
    "spark.sql(\"SELECT * FROM selected_data\").coalesce(1).write.format(\"csv\").option(\"header\", \"true\").mode(\"overwrite\").save(write_uri + \"selected_data\")\n",
    "\n",
    "# Guardar en formato Parquet con sobrescritura\n",
    "spark.sql(\"SELECT * FROM selected_data\").write.format('parquet').mode(\"overwrite\").save(parquet_uri + \"selected_data\")\n"
   ]
  },
  {
   "cell_type": "code",
   "execution_count": null,
   "id": "aabada1b",
   "metadata": {},
   "outputs": [],
   "source": [
    "spark.sql(\n",
    "\"\"\"\n",
    "CREATE OR REPLACE TEMPORARY VIEW grouped_departments AS\n",
    "SELECT Departamento, COUNT(*) as count\n",
    "FROM covid_data_renamed\n",
    "GROUP BY Departamento\n",
    "ORDER BY count DESC\n",
    "\"\"\"\n",
    ")\n",
    "\n",
    "# Mostrar las primeras 10 filas\n",
    "spark.sql(\"SELECT * FROM grouped_departments LIMIT 10\").show()\n",
    "\n",
    "# Guardar en formato CSV en S3 con sobrescritura\n",
    "spark.sql(\"SELECT * FROM grouped_departments\").coalesce(1).write.format(\"csv\").option(\"header\", \"true\").mode(\"overwrite\").save(write_uri + \"grouped_departments_csv\")\n",
    "\n",
    "# Guardar en formato Parquet con sobrescritura\n",
    "spark.sql(\"SELECT * FROM grouped_departments\").write.format('parquet').mode(\"overwrite\").save(parquet_uri + \"grouped_departments_parquet\")\n"
   ]
  },
  {
   "cell_type": "code",
   "execution_count": null,
   "id": "0f015364",
   "metadata": {},
   "outputs": [],
   "source": [
    "spark.sql(\n",
    "\"\"\"\n",
    "CREATE OR REPLACE TEMPORARY VIEW grouped_municipios AS\n",
    "SELECT Municipio, COUNT(*) as count\n",
    "FROM covid_data_renamed\n",
    "GROUP BY Municipio\n",
    "ORDER BY count DESC\n",
    "\"\"\"\n",
    ")\n",
    "\n",
    "# Mostrar las primeras 10 filas\n",
    "spark.sql(\"SELECT * FROM grouped_municipios LIMIT 10\").show()\n",
    "\n",
    "# Guardar en formato CSV en S3 con sobrescritura\n",
    "spark.sql(\"SELECT * FROM grouped_municipios\").coalesce(1).write.format(\"csv\").option(\"header\", \"true\").mode(\"overwrite\").save(write_uri + \"grouped_municipios_csv\")\n",
    "\n",
    "# Guardar en formato Parquet con sobrescritura\n",
    "spark.sql(\"SELECT * FROM grouped_municipios\").write.format('parquet').mode(\"overwrite\").save(parquet_uri + \"grouped_municipios_parquet\")\n"
   ]
  },
  {
   "cell_type": "code",
   "execution_count": null,
   "id": "6fb7f5c4",
   "metadata": {},
   "outputs": [],
   "source": [
    "spark.sql(\n",
    "\"\"\"\n",
    "CREATE OR REPLACE TEMPORARY VIEW grouped_ages AS\n",
    "SELECT Edad, COUNT(*) as count\n",
    "FROM covid_data_renamed\n",
    "GROUP BY Edad\n",
    "ORDER BY Edad ASC\n",
    "\"\"\"\n",
    ")\n",
    "\n",
    "# Mostrar todas las filas del resultado\n",
    "spark.sql(\"SELECT * FROM grouped_ages\").show()\n",
    "\n",
    "# Guardar en formato CSV en S3 con sobrescritura\n",
    "spark.sql(\"SELECT * FROM grouped_ages\").coalesce(1).write.format(\"csv\").option(\"header\", \"true\").mode(\"overwrite\").save(write_uri + \"grouped_ages_csv\")\n",
    "\n",
    "# Guardar en formato Parquet con sobrescritura\n",
    "spark.sql(\"SELECT * FROM grouped_ages\").write.format('parquet').mode(\"overwrite\").save(parquet_uri + \"grouped_ages_parquet\")\n"
   ]
  },
  {
   "cell_type": "code",
   "execution_count": null,
   "id": "085d3151",
   "metadata": {},
   "outputs": [],
   "source": [
    "# Importa las funciones lower y col para manipular las columnas\n",
    "from pyspark.sql.functions import lower, col\n",
    "\n",
    "# Convierte la columna \"Sexo\" a minúsculas\n",
    "df = df.withColumn(\"Sexo\", lower(col(\"Sexo\")))\n",
    "spark.sql(\n",
    "\"\"\"\n",
    "CREATE OR REPLACE TEMPORARY VIEW grouped_sex AS\n",
    "SELECT Sexo, COUNT(*) as count, COUNT(*) / (SELECT COUNT(*) FROM covid_data_renamed) * 100 as Porcentaje\n",
    "FROM covid_data_renamed\n",
    "GROUP BY Sexo\n",
    "\"\"\"\n",
    ")\n",
    "spark.sql(\"SELECT * FROM grouped_sex\").show()\n",
    "spark.sql(\"SELECT * FROM grouped_sex\").coalesce(1).write.format(\"csv\").option(\"header\", \"true\").mode(\"overwrite\").save(write_uri + \"grouped_sex_csv\")\n",
    "spark.sql(\"SELECT * FROM grouped_sex\").write.format('parquet').mode(\"overwrite\").save(parquet_uri + \"grouped_sex_parquet\")\n"
   ]
  },
  {
   "cell_type": "code",
   "execution_count": null,
   "id": "f2c38b17",
   "metadata": {},
   "outputs": [],
   "source": [
    "spark.sql(\n",
    "\"\"\"\n",
    "CREATE OR REPLACE TEMPORARY VIEW antioquia_cases AS\n",
    "SELECT *\n",
    "FROM covid_data_renamed\n",
    "WHERE Departamento = 'Antioquia'\n",
    "\"\"\"\n",
    ")\n",
    "\n",
    "# Mostrar las primeras 20 filas del resultado\n",
    "spark.sql(\"SELECT * FROM antioquia_cases\").show()\n",
    "\n",
    "# Guardar los datos filtrados en un archivo CSV en S3 con sobrescritura\n",
    "spark.sql(\"SELECT * FROM antioquia_cases\").coalesce(1).write.format(\"csv\").option(\"header\", \"true\").mode(\"overwrite\").save(write_uri + \"antioquia_cases_csv\")\n",
    "\n",
    "# Guardar los datos filtrados en un archivo Parquet con sobrescritura\n",
    "spark.sql(\"SELECT * FROM antioquia_cases\").write.format('parquet').mode(\"overwrite\").save(parquet_uri + \"antioquia_cases_parquet\")\n"
   ]
  },
  {
   "cell_type": "code",
   "execution_count": null,
   "id": "3f00382a",
   "metadata": {},
   "outputs": [],
   "source": [
    "spark.sql(\n",
    "\"\"\"\n",
    "CREATE OR REPLACE TEMPORARY VIEW antioquia_elderly AS\n",
    "SELECT *\n",
    "FROM covid_data_renamed\n",
    "WHERE Departamento = 'Antioquia' AND Edad > 60\n",
    "\"\"\"\n",
    ")\n",
    "\n",
    "# Mostrar las primeras 20 filas del resultado\n",
    "spark.sql(\"SELECT * FROM antioquia_elderly\").show()\n",
    "\n",
    "# Guardar los datos filtrados en un archivo CSV en S3 con sobrescritura\n",
    "spark.sql(\"SELECT * FROM antioquia_elderly\").coalesce(1).write.format(\"csv\").option(\"header\", \"true\").mode(\"overwrite\").save(write_uri + \"antioquia_elderly_csv\")\n",
    "\n",
    "# Guardar los datos filtrados en un archivo Parquet con sobrescritura\n",
    "spark.sql(\"SELECT * FROM antioquia_elderly\").write.format('parquet').mode(\"overwrite\").save(parquet_uri + \"antioquia_elderly_parquet\")\n"
   ]
  },
  {
   "cell_type": "code",
   "execution_count": null,
   "id": "ae20a15a",
   "metadata": {},
   "outputs": [],
   "source": [
    "from pyspark.sql.functions import when\n",
    "\n",
    "df = df.withColumn(\n",
    "    \"Rango de Edad\",\n",
    "    when(df[\"Edad\"] < 18, \"Menor\").when(df[\"Edad\"] <= 60, \"Adulto\").otherwise(\"Mayor\")\n",
    ")\n",
    "\n",
    "# Crear una vista temporal para los datos categorizados\n",
    "spark.sql(\n",
    "\"\"\"\n",
    "CREATE OR REPLACE TEMPORARY VIEW categorized_data AS\n",
    "SELECT *, CASE \n",
    "    WHEN Edad < 18 THEN 'Menor'\n",
    "    WHEN Edad <= 60 THEN 'Adulto'\n",
    "    ELSE 'Mayor'\n",
    "END AS `Rango de Edad`\n",
    "FROM covid_data_renamed\n",
    "\"\"\"\n",
    ")\n",
    "\n",
    "# Mostrar las primeras 20 filas del nuevo DataFrame categorized_data\n",
    "spark.sql(\"SELECT * FROM categorized_data\").show()\n",
    "\n",
    "# Guardar en formato CSV en S3 con sobrescritura\n",
    "spark.sql(\"SELECT * FROM categorized_data\").coalesce(1).write.format(\"csv\").option(\"header\", \"true\").mode(\"overwrite\").save(write_uri + \"categorized_data\")\n",
    "\n",
    "# Guardar en formato Parquet con sobrescritura\n",
    "spark.sql(\"SELECT * FROM categorized_data\").write.format('parquet').mode(\"overwrite\").save(parquet_uri + \"categorized_data\")\n"
   ]
  },
  {
   "cell_type": "code",
   "execution_count": null,
   "id": "3cc74c25",
   "metadata": {},
   "outputs": [],
   "source": []
  }
 ],
 "metadata": {
  "kernelspec": {
   "display_name": "Spark",
   "language": "scala",
   "name": "sparkkernel"
  },
  "language_info": {
   "codemirror_mode": "text/x-scala",
   "file_extension": ".sc",
   "mimetype": "text/x-scala",
   "name": "scala",
   "pygments_lexer": "scala"
  }
 },
 "nbformat": 4,
 "nbformat_minor": 5
}
